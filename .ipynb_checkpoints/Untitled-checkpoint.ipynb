{
 "cells": [
  {
   "cell_type": "markdown",
   "id": "02008d75",
   "metadata": {},
   "source": [
    "## RETAIL ONLINE DATASET (EDA + RFM Analysis)"
   ]
  },
  {
   "cell_type": "markdown",
   "id": "03799e79",
   "metadata": {},
   "source": [
    "### Introduction"
   ]
  },
  {
   "cell_type": "markdown",
   "id": "82e5b641",
   "metadata": {},
   "source": [
    "Let's Explore Retail Online Dataset and Summarize it using the final dashboard. \n",
    "This is a transnational data set which contains all the transactions occurring between 01/12/2010 and 09/12/2011 for a UK-based and registered non-store online retail.\n",
    "\n",
    "All of the data can be downloaded directly from [UCI Machine Learning Repository](http://archive.ics.uci.edu/ml/datasets/Online+Retail)."
   ]
  },
  {
   "cell_type": "code",
   "execution_count": 1,
   "id": "bd8416ec",
   "metadata": {},
   "outputs": [],
   "source": [
    "#Import libraries\n",
    "import pandas as pd\n",
    "import numpy as np\n",
    "from matplotlib import pyplot as plt\n",
    "import seaborn as sns\n",
    "import re\n",
    "import warnings\n",
    "warnings.filterwarnings('ignore')\n",
    "warnings.simplefilter('ignore')"
   ]
  },
  {
   "cell_type": "markdown",
   "id": "68ddf91c",
   "metadata": {},
   "source": [
    "### Import Data"
   ]
  },
  {
   "cell_type": "markdown",
   "id": "d14d2d41",
   "metadata": {},
   "source": [
    "Import the excel file as panda DataFrames and examine it. "
   ]
  },
  {
   "cell_type": "code",
   "execution_count": 2,
   "id": "36377dfd",
   "metadata": {},
   "outputs": [
    {
     "data": {
      "text/html": [
       "<div>\n",
       "<style scoped>\n",
       "    .dataframe tbody tr th:only-of-type {\n",
       "        vertical-align: middle;\n",
       "    }\n",
       "\n",
       "    .dataframe tbody tr th {\n",
       "        vertical-align: top;\n",
       "    }\n",
       "\n",
       "    .dataframe thead th {\n",
       "        text-align: right;\n",
       "    }\n",
       "</style>\n",
       "<table border=\"1\" class=\"dataframe\">\n",
       "  <thead>\n",
       "    <tr style=\"text-align: right;\">\n",
       "      <th></th>\n",
       "      <th>InvoiceNo</th>\n",
       "      <th>StockCode</th>\n",
       "      <th>Description</th>\n",
       "      <th>Quantity</th>\n",
       "      <th>InvoiceDate</th>\n",
       "      <th>UnitPrice</th>\n",
       "      <th>CustomerID</th>\n",
       "      <th>Country</th>\n",
       "    </tr>\n",
       "  </thead>\n",
       "  <tbody>\n",
       "    <tr>\n",
       "      <th>0</th>\n",
       "      <td>536365</td>\n",
       "      <td>85123A</td>\n",
       "      <td>WHITE HANGING HEART T-LIGHT HOLDER</td>\n",
       "      <td>6</td>\n",
       "      <td>2010-12-01 08:26:00</td>\n",
       "      <td>2.55</td>\n",
       "      <td>17850.0</td>\n",
       "      <td>United Kingdom</td>\n",
       "    </tr>\n",
       "    <tr>\n",
       "      <th>1</th>\n",
       "      <td>536365</td>\n",
       "      <td>71053</td>\n",
       "      <td>WHITE METAL LANTERN</td>\n",
       "      <td>6</td>\n",
       "      <td>2010-12-01 08:26:00</td>\n",
       "      <td>3.39</td>\n",
       "      <td>17850.0</td>\n",
       "      <td>United Kingdom</td>\n",
       "    </tr>\n",
       "    <tr>\n",
       "      <th>2</th>\n",
       "      <td>536365</td>\n",
       "      <td>84406B</td>\n",
       "      <td>CREAM CUPID HEARTS COAT HANGER</td>\n",
       "      <td>8</td>\n",
       "      <td>2010-12-01 08:26:00</td>\n",
       "      <td>2.75</td>\n",
       "      <td>17850.0</td>\n",
       "      <td>United Kingdom</td>\n",
       "    </tr>\n",
       "    <tr>\n",
       "      <th>3</th>\n",
       "      <td>536365</td>\n",
       "      <td>84029G</td>\n",
       "      <td>KNITTED UNION FLAG HOT WATER BOTTLE</td>\n",
       "      <td>6</td>\n",
       "      <td>2010-12-01 08:26:00</td>\n",
       "      <td>3.39</td>\n",
       "      <td>17850.0</td>\n",
       "      <td>United Kingdom</td>\n",
       "    </tr>\n",
       "    <tr>\n",
       "      <th>4</th>\n",
       "      <td>536365</td>\n",
       "      <td>84029E</td>\n",
       "      <td>RED WOOLLY HOTTIE WHITE HEART.</td>\n",
       "      <td>6</td>\n",
       "      <td>2010-12-01 08:26:00</td>\n",
       "      <td>3.39</td>\n",
       "      <td>17850.0</td>\n",
       "      <td>United Kingdom</td>\n",
       "    </tr>\n",
       "  </tbody>\n",
       "</table>\n",
       "</div>"
      ],
      "text/plain": [
       "  InvoiceNo StockCode                          Description  Quantity  \\\n",
       "0    536365    85123A   WHITE HANGING HEART T-LIGHT HOLDER         6   \n",
       "1    536365     71053                  WHITE METAL LANTERN         6   \n",
       "2    536365    84406B       CREAM CUPID HEARTS COAT HANGER         8   \n",
       "3    536365    84029G  KNITTED UNION FLAG HOT WATER BOTTLE         6   \n",
       "4    536365    84029E       RED WOOLLY HOTTIE WHITE HEART.         6   \n",
       "\n",
       "          InvoiceDate  UnitPrice  CustomerID         Country  \n",
       "0 2010-12-01 08:26:00       2.55     17850.0  United Kingdom  \n",
       "1 2010-12-01 08:26:00       3.39     17850.0  United Kingdom  \n",
       "2 2010-12-01 08:26:00       2.75     17850.0  United Kingdom  \n",
       "3 2010-12-01 08:26:00       3.39     17850.0  United Kingdom  \n",
       "4 2010-12-01 08:26:00       3.39     17850.0  United Kingdom  "
      ]
     },
     "execution_count": 2,
     "metadata": {},
     "output_type": "execute_result"
    }
   ],
   "source": [
    "#Import the excel file and examine it\n",
    "df = pd.read_excel('C:/Users/MOH.FARIZ/Documents/Data Set/Online Retail.xlsx')\n",
    "df.head()"
   ]
  },
  {
   "cell_type": "code",
   "execution_count": 3,
   "id": "8f638aab",
   "metadata": {},
   "outputs": [
    {
     "data": {
      "text/plain": [
       "(541909, 8)"
      ]
     },
     "execution_count": 3,
     "metadata": {},
     "output_type": "execute_result"
    }
   ],
   "source": [
    "df.shape"
   ]
  },
  {
   "cell_type": "markdown",
   "id": "4dac43a1",
   "metadata": {},
   "source": [
    "### Cleaning Dataset"
   ]
  },
  {
   "cell_type": "code",
   "execution_count": 4,
   "id": "5ec1d923",
   "metadata": {},
   "outputs": [
    {
     "data": {
      "text/plain": [
       "InvoiceNo           0\n",
       "StockCode           0\n",
       "Description      1454\n",
       "Quantity            0\n",
       "InvoiceDate         0\n",
       "UnitPrice           0\n",
       "CustomerID     135080\n",
       "Country             0\n",
       "dtype: int64"
      ]
     },
     "execution_count": 4,
     "metadata": {},
     "output_type": "execute_result"
    }
   ],
   "source": [
    "#Investigate missing value\n",
    "df.isna().sum()"
   ]
  },
  {
   "cell_type": "code",
   "execution_count": 5,
   "id": "6198896f",
   "metadata": {},
   "outputs": [
    {
     "data": {
      "text/plain": [
       "(406829, 8)"
      ]
     },
     "execution_count": 5,
     "metadata": {},
     "output_type": "execute_result"
    }
   ],
   "source": [
    "#drop missing value\n",
    "df = df.dropna()\n",
    "df.shape"
   ]
  },
  {
   "cell_type": "code",
   "execution_count": 6,
   "id": "82ba093d",
   "metadata": {},
   "outputs": [
    {
     "data": {
      "text/plain": [
       "InvoiceNo              object\n",
       "StockCode              object\n",
       "Description            object\n",
       "Quantity                int64\n",
       "InvoiceDate    datetime64[ns]\n",
       "UnitPrice             float64\n",
       "CustomerID            float64\n",
       "Country                object\n",
       "dtype: object"
      ]
     },
     "execution_count": 6,
     "metadata": {},
     "output_type": "execute_result"
    }
   ],
   "source": [
    "#Check the data type\n",
    "df.dtypes"
   ]
  },
  {
   "cell_type": "code",
   "execution_count": 7,
   "id": "2dec41df",
   "metadata": {},
   "outputs": [
    {
     "data": {
      "text/plain": [
       "InvoiceNo      0\n",
       "StockCode      0\n",
       "Description    0\n",
       "Quantity       0\n",
       "InvoiceDate    0\n",
       "UnitPrice      0\n",
       "CustomerID     0\n",
       "Country        0\n",
       "dtype: int64"
      ]
     },
     "execution_count": 7,
     "metadata": {},
     "output_type": "execute_result"
    }
   ],
   "source": [
    "df.isna().sum()"
   ]
  },
  {
   "cell_type": "code",
   "execution_count": 8,
   "id": "eb9fae8a",
   "metadata": {},
   "outputs": [
    {
     "data": {
      "text/plain": [
       "InvoiceNo              string\n",
       "StockCode              object\n",
       "Description            object\n",
       "Quantity                int64\n",
       "InvoiceDate    datetime64[ns]\n",
       "UnitPrice             float64\n",
       "CustomerID             string\n",
       "Country                object\n",
       "dtype: object"
      ]
     },
     "execution_count": 8,
     "metadata": {},
     "output_type": "execute_result"
    }
   ],
   "source": [
    "#Cleaning String and data type\n",
    "df['Description'] = df['Description'].str.replace('.','').str.upper().str.strip()\n",
    "df['Description'] = df['Description'].replace(r\"\\s+\",' ', regex = True)\n",
    "df['InvoiceNo'] = df['InvoiceNo'].astype('string')\n",
    "df['CustomerID'] = df['CustomerID'].astype('string')\n",
    "df.dtypes"
   ]
  },
  {
   "cell_type": "code",
   "execution_count": 9,
   "id": "3589935c",
   "metadata": {},
   "outputs": [
    {
     "data": {
      "text/html": [
       "<div>\n",
       "<style scoped>\n",
       "    .dataframe tbody tr th:only-of-type {\n",
       "        vertical-align: middle;\n",
       "    }\n",
       "\n",
       "    .dataframe tbody tr th {\n",
       "        vertical-align: top;\n",
       "    }\n",
       "\n",
       "    .dataframe thead th {\n",
       "        text-align: right;\n",
       "    }\n",
       "</style>\n",
       "<table border=\"1\" class=\"dataframe\">\n",
       "  <thead>\n",
       "    <tr style=\"text-align: right;\">\n",
       "      <th></th>\n",
       "      <th>Quantity</th>\n",
       "      <th>UnitPrice</th>\n",
       "    </tr>\n",
       "  </thead>\n",
       "  <tbody>\n",
       "    <tr>\n",
       "      <th>count</th>\n",
       "      <td>406829.000000</td>\n",
       "      <td>406829.000000</td>\n",
       "    </tr>\n",
       "    <tr>\n",
       "      <th>mean</th>\n",
       "      <td>12.061303</td>\n",
       "      <td>3.460471</td>\n",
       "    </tr>\n",
       "    <tr>\n",
       "      <th>std</th>\n",
       "      <td>248.693370</td>\n",
       "      <td>69.315162</td>\n",
       "    </tr>\n",
       "    <tr>\n",
       "      <th>min</th>\n",
       "      <td>-80995.000000</td>\n",
       "      <td>0.000000</td>\n",
       "    </tr>\n",
       "    <tr>\n",
       "      <th>25%</th>\n",
       "      <td>2.000000</td>\n",
       "      <td>1.250000</td>\n",
       "    </tr>\n",
       "    <tr>\n",
       "      <th>50%</th>\n",
       "      <td>5.000000</td>\n",
       "      <td>1.950000</td>\n",
       "    </tr>\n",
       "    <tr>\n",
       "      <th>75%</th>\n",
       "      <td>12.000000</td>\n",
       "      <td>3.750000</td>\n",
       "    </tr>\n",
       "    <tr>\n",
       "      <th>max</th>\n",
       "      <td>80995.000000</td>\n",
       "      <td>38970.000000</td>\n",
       "    </tr>\n",
       "  </tbody>\n",
       "</table>\n",
       "</div>"
      ],
      "text/plain": [
       "            Quantity      UnitPrice\n",
       "count  406829.000000  406829.000000\n",
       "mean       12.061303       3.460471\n",
       "std       248.693370      69.315162\n",
       "min    -80995.000000       0.000000\n",
       "25%         2.000000       1.250000\n",
       "50%         5.000000       1.950000\n",
       "75%        12.000000       3.750000\n",
       "max     80995.000000   38970.000000"
      ]
     },
     "execution_count": 9,
     "metadata": {},
     "output_type": "execute_result"
    }
   ],
   "source": [
    "df.describe()"
   ]
  },
  {
   "cell_type": "markdown",
   "id": "5c82ad77",
   "metadata": {},
   "source": [
    "This is strange if our dataset contains high negative values. If we look carefully, not all of our dataset contain transactions from selling products activities. Some of fees and costs are included in this dataset. This fees and cost are in StockCode that contain only letter or alphabet (including space) values. "
   ]
  },
  {
   "cell_type": "code",
   "execution_count": 10,
   "id": "c1c35fd1",
   "metadata": {},
   "outputs": [],
   "source": [
    "#Cleaning Data Frame where StockCode contains only letter\n",
    "df['string'] = df.StockCode.str.isalpha()\n",
    "df = df[df['string'] != False]"
   ]
  },
  {
   "cell_type": "code",
   "execution_count": 11,
   "id": "43ce3b27",
   "metadata": {},
   "outputs": [
    {
     "data": {
      "text/plain": [
       "(371020, 8)"
      ]
     },
     "execution_count": 11,
     "metadata": {},
     "output_type": "execute_result"
    }
   ],
   "source": [
    "#Cleaning Data Frame where StockCode contains space\n",
    "df['space'] = df.StockCode.str.contains(' ')\n",
    "df = df[df['space'] != False]\n",
    "df = df.drop(columns=['string', 'space'])\n",
    "df.shape"
   ]
  },
  {
   "cell_type": "markdown",
   "id": "fb1c931b",
   "metadata": {},
   "source": [
    "Next we have to filtering out canceled transaction. In the description of dataset, it is written that there are some canceled transactions presented in dataset. Canceled transactions is indicated by invoice number which starts with letter 'C'. "
   ]
  },
  {
   "cell_type": "code",
   "execution_count": 12,
   "id": "3979fcf7",
   "metadata": {},
   "outputs": [
    {
     "data": {
      "text/plain": [
       "(363119, 8)"
      ]
     },
     "execution_count": 12,
     "metadata": {},
     "output_type": "execute_result"
    }
   ],
   "source": [
    "#Filtering transaction with invoice number started with letter 'C'\n",
    "df = df[~df.InvoiceNo.str.contains('C')]\n",
    "df.shape"
   ]
  },
  {
   "cell_type": "markdown",
   "id": "29cd0829",
   "metadata": {},
   "source": [
    "Next, it is time to remove duplicate data. "
   ]
  },
  {
   "cell_type": "code",
   "execution_count": 13,
   "id": "96fdc332",
   "metadata": {},
   "outputs": [
    {
     "data": {
      "text/plain": [
       "(358309, 8)"
      ]
     },
     "execution_count": 13,
     "metadata": {},
     "output_type": "execute_result"
    }
   ],
   "source": [
    "#Remove ruplicate data in EXACT columns\n",
    "df.drop_duplicates(inplace = True)\n",
    "df.shape"
   ]
  },
  {
   "cell_type": "markdown",
   "id": "aec2b7af",
   "metadata": {},
   "source": [
    "We move to the next step. In this step, we need to deal with Outlier data. Outlier is a data point in the dataset that differs significantly from the other data or observations. Many statistic procedures are affected by the presence of outliers. So, in this case, removing the outlier may be an option. \n",
    "\n",
    "In this method, we use IQR (Inter Quartile Range). IQR approach to finding the outliers is the most commonly used and most trusted approach used in the research field."
   ]
  },
  {
   "cell_type": "code",
   "execution_count": 14,
   "id": "0f8f6b76",
   "metadata": {},
   "outputs": [
    {
     "name": "stdout",
     "output_type": "stream",
     "text": [
      "(358309, 8)\n",
      "(326249, 8)\n"
     ]
    }
   ],
   "source": [
    "#Finding the IQR of UnitPrice\n",
    "percentile25 = df['UnitPrice'].quantile(0.25)\n",
    "percentile75 = df['UnitPrice'].quantile(0.75)\n",
    "iqr = percentile75 - percentile25\n",
    "#Finding upper and lower limit\n",
    "upper_limit = percentile75 + 1.5 * iqr\n",
    "lower_limit = percentile25 - 1.5 * iqr\n",
    "#Removing Outlier from UnitPrice\n",
    "new_df = df[(df['UnitPrice'] < upper_limit)  & (df['UnitPrice'] > lower_limit)]\n",
    "print(df.shape)\n",
    "print(new_df.shape)"
   ]
  },
  {
   "cell_type": "code",
   "execution_count": 15,
   "id": "23739c78",
   "metadata": {},
   "outputs": [
    {
     "name": "stdout",
     "output_type": "stream",
     "text": [
      "(303169, 8)\n"
     ]
    }
   ],
   "source": [
    "#Finding the IQR of UnitPrice\n",
    "percentile25 = new_df['Quantity'].quantile(0.25)\n",
    "percentile75 = new_df['Quantity'].quantile(0.75)\n",
    "iqr = percentile75 - percentile25\n",
    "#Finding upper and lower limit\n",
    "upper_limit = percentile75 + 1.5 * iqr\n",
    "lower_limit = percentile25 - 1.5 * iqr\n",
    "#Removing Outlier from UnitPrice\n",
    "new_df = new_df[(new_df['Quantity'] < upper_limit)  & (new_df['Quantity'] > lower_limit)]\n",
    "print(new_df.shape)"
   ]
  },
  {
   "cell_type": "markdown",
   "id": "c21e68dd",
   "metadata": {},
   "source": [
    "Next it is time to extract the  to to make our analysis easier."
   ]
  },
  {
   "cell_type": "code",
   "execution_count": 16,
   "id": "2bd25b2c",
   "metadata": {},
   "outputs": [],
   "source": [
    "#Extract date from datetime column in Pandas\n",
    "new_df['Date'] = new_df['InvoiceDate'].dt.normalize()\n",
    "new_df['Year'] = new_df['InvoiceDate'].dt.year\n",
    "new_df['Month'] = new_df['InvoiceDate'].dt.month_name().str[:3]\n",
    "new_df['Day'] = new_df['InvoiceDate'].dt.day_name()\n",
    "new_df['hour'] = new_df['InvoiceDate'].dt.hour\n",
    "new_df['month_year'] = pd.to_datetime(df['InvoiceDate']).dt.to_period('M')"
   ]
  },
  {
   "cell_type": "markdown",
   "id": "c0dc7c9c",
   "metadata": {},
   "source": [
    "Finally, for the last step, it's time to create columns Sales to know the total value for each transaction. "
   ]
  },
  {
   "cell_type": "code",
   "execution_count": 17,
   "id": "7a0462d8",
   "metadata": {},
   "outputs": [
    {
     "data": {
      "text/html": [
       "<div>\n",
       "<style scoped>\n",
       "    .dataframe tbody tr th:only-of-type {\n",
       "        vertical-align: middle;\n",
       "    }\n",
       "\n",
       "    .dataframe tbody tr th {\n",
       "        vertical-align: top;\n",
       "    }\n",
       "\n",
       "    .dataframe thead th {\n",
       "        text-align: right;\n",
       "    }\n",
       "</style>\n",
       "<table border=\"1\" class=\"dataframe\">\n",
       "  <thead>\n",
       "    <tr style=\"text-align: right;\">\n",
       "      <th></th>\n",
       "      <th>InvoiceNo</th>\n",
       "      <th>StockCode</th>\n",
       "      <th>Description</th>\n",
       "      <th>Quantity</th>\n",
       "      <th>InvoiceDate</th>\n",
       "      <th>UnitPrice</th>\n",
       "      <th>CustomerID</th>\n",
       "      <th>Country</th>\n",
       "      <th>Date</th>\n",
       "      <th>Year</th>\n",
       "      <th>Month</th>\n",
       "      <th>Day</th>\n",
       "      <th>hour</th>\n",
       "      <th>month_year</th>\n",
       "      <th>Sales</th>\n",
       "    </tr>\n",
       "  </thead>\n",
       "  <tbody>\n",
       "    <tr>\n",
       "      <th>1</th>\n",
       "      <td>536365</td>\n",
       "      <td>71053</td>\n",
       "      <td>WHITE METAL LANTERN</td>\n",
       "      <td>6</td>\n",
       "      <td>2010-12-01 08:26:00</td>\n",
       "      <td>3.39</td>\n",
       "      <td>17850.0</td>\n",
       "      <td>United Kingdom</td>\n",
       "      <td>2010-12-01</td>\n",
       "      <td>2010</td>\n",
       "      <td>Dec</td>\n",
       "      <td>Wednesday</td>\n",
       "      <td>8</td>\n",
       "      <td>2010-12</td>\n",
       "      <td>20.34</td>\n",
       "    </tr>\n",
       "    <tr>\n",
       "      <th>6</th>\n",
       "      <td>536365</td>\n",
       "      <td>21730</td>\n",
       "      <td>GLASS STAR FROSTED T-LIGHT HOLDER</td>\n",
       "      <td>6</td>\n",
       "      <td>2010-12-01 08:26:00</td>\n",
       "      <td>4.25</td>\n",
       "      <td>17850.0</td>\n",
       "      <td>United Kingdom</td>\n",
       "      <td>2010-12-01</td>\n",
       "      <td>2010</td>\n",
       "      <td>Dec</td>\n",
       "      <td>Wednesday</td>\n",
       "      <td>8</td>\n",
       "      <td>2010-12</td>\n",
       "      <td>25.50</td>\n",
       "    </tr>\n",
       "    <tr>\n",
       "      <th>7</th>\n",
       "      <td>536366</td>\n",
       "      <td>22633</td>\n",
       "      <td>HAND WARMER UNION JACK</td>\n",
       "      <td>6</td>\n",
       "      <td>2010-12-01 08:28:00</td>\n",
       "      <td>1.85</td>\n",
       "      <td>17850.0</td>\n",
       "      <td>United Kingdom</td>\n",
       "      <td>2010-12-01</td>\n",
       "      <td>2010</td>\n",
       "      <td>Dec</td>\n",
       "      <td>Wednesday</td>\n",
       "      <td>8</td>\n",
       "      <td>2010-12</td>\n",
       "      <td>11.10</td>\n",
       "    </tr>\n",
       "    <tr>\n",
       "      <th>8</th>\n",
       "      <td>536366</td>\n",
       "      <td>22632</td>\n",
       "      <td>HAND WARMER RED POLKA DOT</td>\n",
       "      <td>6</td>\n",
       "      <td>2010-12-01 08:28:00</td>\n",
       "      <td>1.85</td>\n",
       "      <td>17850.0</td>\n",
       "      <td>United Kingdom</td>\n",
       "      <td>2010-12-01</td>\n",
       "      <td>2010</td>\n",
       "      <td>Dec</td>\n",
       "      <td>Wednesday</td>\n",
       "      <td>8</td>\n",
       "      <td>2010-12</td>\n",
       "      <td>11.10</td>\n",
       "    </tr>\n",
       "    <tr>\n",
       "      <th>10</th>\n",
       "      <td>536367</td>\n",
       "      <td>22745</td>\n",
       "      <td>POPPY'S PLAYHOUSE BEDROOM</td>\n",
       "      <td>6</td>\n",
       "      <td>2010-12-01 08:34:00</td>\n",
       "      <td>2.10</td>\n",
       "      <td>13047.0</td>\n",
       "      <td>United Kingdom</td>\n",
       "      <td>2010-12-01</td>\n",
       "      <td>2010</td>\n",
       "      <td>Dec</td>\n",
       "      <td>Wednesday</td>\n",
       "      <td>8</td>\n",
       "      <td>2010-12</td>\n",
       "      <td>12.60</td>\n",
       "    </tr>\n",
       "  </tbody>\n",
       "</table>\n",
       "</div>"
      ],
      "text/plain": [
       "   InvoiceNo StockCode                        Description  Quantity  \\\n",
       "1     536365     71053                WHITE METAL LANTERN         6   \n",
       "6     536365     21730  GLASS STAR FROSTED T-LIGHT HOLDER         6   \n",
       "7     536366     22633             HAND WARMER UNION JACK         6   \n",
       "8     536366     22632          HAND WARMER RED POLKA DOT         6   \n",
       "10    536367     22745          POPPY'S PLAYHOUSE BEDROOM         6   \n",
       "\n",
       "           InvoiceDate  UnitPrice CustomerID         Country       Date  Year  \\\n",
       "1  2010-12-01 08:26:00       3.39    17850.0  United Kingdom 2010-12-01  2010   \n",
       "6  2010-12-01 08:26:00       4.25    17850.0  United Kingdom 2010-12-01  2010   \n",
       "7  2010-12-01 08:28:00       1.85    17850.0  United Kingdom 2010-12-01  2010   \n",
       "8  2010-12-01 08:28:00       1.85    17850.0  United Kingdom 2010-12-01  2010   \n",
       "10 2010-12-01 08:34:00       2.10    13047.0  United Kingdom 2010-12-01  2010   \n",
       "\n",
       "   Month        Day  hour month_year  Sales  \n",
       "1    Dec  Wednesday     8    2010-12  20.34  \n",
       "6    Dec  Wednesday     8    2010-12  25.50  \n",
       "7    Dec  Wednesday     8    2010-12  11.10  \n",
       "8    Dec  Wednesday     8    2010-12  11.10  \n",
       "10   Dec  Wednesday     8    2010-12  12.60  "
      ]
     },
     "execution_count": 17,
     "metadata": {},
     "output_type": "execute_result"
    }
   ],
   "source": [
    "new_df['Sales'] = new_df['Quantity'] * new_df['UnitPrice']\n",
    "new_df.head()"
   ]
  },
  {
   "cell_type": "markdown",
   "id": "cd1409d8",
   "metadata": {},
   "source": [
    "## Exploratory Analysis"
   ]
  },
  {
   "cell_type": "markdown",
   "id": "697b04e0",
   "metadata": {},
   "source": [
    "Exploratory data analysis is a way to better understand our data which helps in further Data preprocessing. And data visualization is a key, making the exploratory data analysis process streamline and easily analyzing data using plots and charts."
   ]
  },
  {
   "cell_type": "markdown",
   "id": "a7d47498",
   "metadata": {},
   "source": [
    "### Sales vs Quantity"
   ]
  },
  {
   "cell_type": "markdown",
   "id": "7ce9b69f",
   "metadata": {},
   "source": [
    "#### Sales and Quantity Based on Country"
   ]
  },
  {
   "cell_type": "code",
   "execution_count": 18,
   "id": "6beef81a",
   "metadata": {},
   "outputs": [
    {
     "name": "stdout",
     "output_type": "stream",
     "text": [
      "                Total_Order       Sales  Quantity\n",
      "Country                                          \n",
      "United Kingdom       272708  3352647.62   1970315\n",
      "Germany                6934   126673.74     78420\n",
      "France                 6535   115502.90     72293\n",
      "EIRE                   4920    95928.40     53805\n",
      "Spain                  1849    27338.06     16945\n",
      "Switzerland            1313    26943.79     16635\n",
      "Belgium                1527    25941.26     16325\n",
      "Portugal               1176    18982.35     11214\n",
      "Norway                  717    16711.56      8772\n",
      "Netherlands             576    13980.84      6703\n"
     ]
    }
   ],
   "source": [
    "Sales_Country = new_df.groupby(['Country']).agg({'InvoiceNo': ['nunique'],\n",
    "                                      'InvoiceNo': 'count', 'Sales':'sum', 'Quantity':'sum'}).rename(columns={'InvoiceNo':'Total_Order'}).sort_values('Sales', ascending=False)\n",
    "print(Sales_Country.head(10))"
   ]
  },
  {
   "cell_type": "code",
   "execution_count": 19,
   "id": "13c978ba",
   "metadata": {},
   "outputs": [
    {
     "data": {
      "image/png": "[encoded data removed]",
      "text/plain": [
       "<Figure size 648x432 with 3 Axes>"
      ]
     },
     "metadata": {},
     "output_type": "display_data"
    }
   ],
   "source": [
    "f, (ax1, ax2, ax3) = plt.subplots(1, 3, figsize=(9,6))\n",
    "\n",
    "def autopct(pct):\n",
    "    return ('%1.2f%%' % pct) if pct > 80 else ''\n",
    "\n",
    "p,t,a = ax1.pie(Sales_Country.Sales, autopct=autopct)\n",
    "p,t,a = ax2.pie(Sales_Country.Quantity, autopct=autopct)\n",
    "p,t,a = ax3.pie(Sales_Country.Total_Order, autopct=autopct)\n",
    "ax1.axis('equal')\n",
    "ax2.axis('equal')\n",
    "ax3.axis('equal')\n",
    "# normalize dataframe (not actually needed here, but for general case)\n",
    "normsizes = Sales_Country.Sales/Sales_Country.Sales.sum()*100\n",
    "normsizes2 = Sales_Country.Quantity/Sales_Country.Quantity.sum()*100\n",
    "normsizes3 = Sales_Country.Total_Order/Sales_Country.Total_Order.sum()*100\n",
    "# create handles and labels for legend, take only those where value is > 1\n",
    "h,l = zip(*[(h,lab) for h,lab,i in zip(p,Sales_Country.index.values,normsizes.values) if i > 80])\n",
    "h,j = zip(*[(h,lab) for h,lab,i in zip(p,Sales_Country.index.values,normsizes2.values) if i > 80])\n",
    "h,k = zip(*[(h,lab) for h,lab,i in zip(p,Sales_Country.index.values,normsizes3.values) if i > 80])\n",
    "ax1.set_title('Sales')\n",
    "ax2.set_title('Quantity')\n",
    "ax3.set_title('Total Order')\n",
    "ax1.legend(h, l,loc=\"best\", bbox_to_anchor=(1,1))\n",
    "ax2.legend(h, j,loc=\"best\", bbox_to_anchor=(1,1))\n",
    "ax3.legend(h, k,loc=\"best\", bbox_to_anchor=(1,1))\n",
    "plt.show()"
   ]
  },
  {
   "cell_type": "markdown",
   "id": "ffd9f363",
   "metadata": {},
   "source": [
    "From the previous chart, we know. Most of transactions with the percentage 0f 80% more (Total Order, Sales, and Quantity) are coming from the United Kingdom (UK) or domestic transaction. Now let's explore, where is the best foreign transaction for online retail. "
   ]
  },
  {
   "cell_type": "code",
   "execution_count": 20,
   "id": "3e27199b",
   "metadata": {},
   "outputs": [
    {
     "data": {
      "text/html": [
       "<div>\n",
       "<style scoped>\n",
       "    .dataframe tbody tr th:only-of-type {\n",
       "        vertical-align: middle;\n",
       "    }\n",
       "\n",
       "    .dataframe tbody tr th {\n",
       "        vertical-align: top;\n",
       "    }\n",
       "\n",
       "    .dataframe thead th {\n",
       "        text-align: right;\n",
       "    }\n",
       "</style>\n",
       "<table border=\"1\" class=\"dataframe\">\n",
       "  <thead>\n",
       "    <tr style=\"text-align: right;\">\n",
       "      <th></th>\n",
       "      <th>Country</th>\n",
       "      <th>Total_Order</th>\n",
       "      <th>Sales</th>\n",
       "      <th>Quantity</th>\n",
       "    </tr>\n",
       "  </thead>\n",
       "  <tbody>\n",
       "    <tr>\n",
       "      <th>1</th>\n",
       "      <td>Germany</td>\n",
       "      <td>6934</td>\n",
       "      <td>126673.74</td>\n",
       "      <td>78420</td>\n",
       "    </tr>\n",
       "    <tr>\n",
       "      <th>2</th>\n",
       "      <td>France</td>\n",
       "      <td>6535</td>\n",
       "      <td>115502.90</td>\n",
       "      <td>72293</td>\n",
       "    </tr>\n",
       "    <tr>\n",
       "      <th>3</th>\n",
       "      <td>EIRE</td>\n",
       "      <td>4920</td>\n",
       "      <td>95928.40</td>\n",
       "      <td>53805</td>\n",
       "    </tr>\n",
       "    <tr>\n",
       "      <th>4</th>\n",
       "      <td>Spain</td>\n",
       "      <td>1849</td>\n",
       "      <td>27338.06</td>\n",
       "      <td>16945</td>\n",
       "    </tr>\n",
       "    <tr>\n",
       "      <th>5</th>\n",
       "      <td>Switzerland</td>\n",
       "      <td>1313</td>\n",
       "      <td>26943.79</td>\n",
       "      <td>16635</td>\n",
       "    </tr>\n",
       "    <tr>\n",
       "      <th>6</th>\n",
       "      <td>Belgium</td>\n",
       "      <td>1527</td>\n",
       "      <td>25941.26</td>\n",
       "      <td>16325</td>\n",
       "    </tr>\n",
       "    <tr>\n",
       "      <th>7</th>\n",
       "      <td>Portugal</td>\n",
       "      <td>1176</td>\n",
       "      <td>18982.35</td>\n",
       "      <td>11214</td>\n",
       "    </tr>\n",
       "    <tr>\n",
       "      <th>8</th>\n",
       "      <td>Norway</td>\n",
       "      <td>717</td>\n",
       "      <td>16711.56</td>\n",
       "      <td>8772</td>\n",
       "    </tr>\n",
       "    <tr>\n",
       "      <th>9</th>\n",
       "      <td>Netherlands</td>\n",
       "      <td>576</td>\n",
       "      <td>13980.84</td>\n",
       "      <td>6703</td>\n",
       "    </tr>\n",
       "    <tr>\n",
       "      <th>10</th>\n",
       "      <td>Australia</td>\n",
       "      <td>467</td>\n",
       "      <td>11709.71</td>\n",
       "      <td>4876</td>\n",
       "    </tr>\n",
       "  </tbody>\n",
       "</table>\n",
       "</div>"
      ],
      "text/plain": [
       "        Country  Total_Order      Sales  Quantity\n",
       "1       Germany         6934  126673.74     78420\n",
       "2        France         6535  115502.90     72293\n",
       "3          EIRE         4920   95928.40     53805\n",
       "4         Spain         1849   27338.06     16945\n",
       "5   Switzerland         1313   26943.79     16635\n",
       "6       Belgium         1527   25941.26     16325\n",
       "7      Portugal         1176   18982.35     11214\n",
       "8        Norway          717   16711.56      8772\n",
       "9   Netherlands          576   13980.84      6703\n",
       "10    Australia          467   11709.71      4876"
      ]
     },
     "execution_count": 20,
     "metadata": {},
     "output_type": "execute_result"
    }
   ],
   "source": [
    "Foreign_Sales = Sales_Country.reset_index().query('Country != \"United Kingdom\"')\n",
    "Foreign_Sales.head(10)"
   ]
  },
  {
   "cell_type": "code",
   "execution_count": 21,
   "id": "374ee167",
   "metadata": {},
   "outputs": [
    {
     "data": {
      "image/png": "[encoded data removed]",
      "text/plain": [
       "<Figure size 648x432 with 3 Axes>"
      ]
     },
     "metadata": {},
     "output_type": "display_data"
    }
   ],
   "source": [
    "f, (ax1, ax2, ax3) = plt.subplots(1, 3, figsize=(9,6))\n",
    "\n",
    "def autopct(pct):\n",
    "    return ('%1.2f%%' % pct) if pct > 15 else ''\n",
    "\n",
    "p,t,a = ax1.pie(Foreign_Sales.Sales, autopct=autopct)\n",
    "p,t,a = ax2.pie(Foreign_Sales.Quantity, autopct=autopct)\n",
    "p,t,a = ax3.pie(Foreign_Sales.Total_Order, autopct=autopct)\n",
    "ax1.axis('equal')\n",
    "ax2.axis('equal')\n",
    "ax3.axis('equal')\n",
    "# normalize dataframe (not actually needed here, but for general case)\n",
    "normsizes = Foreign_Sales.Sales/Foreign_Sales.Sales.sum()*100\n",
    "normsizes2 = Foreign_Sales.Quantity/Foreign_Sales.Quantity.sum()*100\n",
    "normsizes3 = Foreign_Sales.Total_Order/Foreign_Sales.Total_Order.sum()*100\n",
    "# create handles and labels for legend, take only those where value is > 1\n",
    "h,l = zip(*[(h,lab) for h,lab,i in zip(p,Foreign_Sales.Country.values,normsizes.values) if i > 15])\n",
    "h,j = zip(*[(h,lab) for h,lab,i in zip(p,Foreign_Sales.Country.values,normsizes2.values) if i > 15])\n",
    "h,k = zip(*[(h,lab) for h,lab,i in zip(p,Foreign_Sales.Country.values,normsizes3.values) if i > 15])\n",
    "ax1.set_title('Sales')\n",
    "ax2.set_title('Quantity')\n",
    "ax3.set_title('Total Order')\n",
    "ax1.legend(h, l,loc=\"best\", bbox_to_anchor=(1,1))\n",
    "ax2.legend(h, j,loc=\"best\", bbox_to_anchor=(1,1))\n",
    "ax3.legend(h, k,loc=\"best\", bbox_to_anchor=(1,1))\n",
    "plt.show()"
   ]
  },
  {
   "cell_type": "markdown",
   "id": "452c3f18",
   "metadata": {},
   "source": [
    "Finally we can see, the Top 3 of foreign transactions. They are, Germany, France and Ireland."
   ]
  },
  {
   "cell_type": "markdown",
   "id": "3b74eccc",
   "metadata": {},
   "source": [
    "#### Sales MoM"
   ]
  },
  {
   "cell_type": "markdown",
   "id": "9ccb2e0a",
   "metadata": {},
   "source": [
    "Next, let's explore the growth of sales and quantity of product month to month (MOM)"
   ]
  },
  {
   "cell_type": "code",
   "execution_count": 22,
   "id": "98adc3b4",
   "metadata": {},
   "outputs": [
    {
     "data": {
      "image/png": "[encoded data removed]",
      "text/plain": [
       "<Figure size 432x288 with 1 Axes>"
      ]
     },
     "metadata": {
      "needs_background": "light"
     },
     "output_type": "display_data"
    }
   ],
   "source": [
    "Sales_MoM = pd.DataFrame(new_df.groupby(['month_year']).agg({'Sales':'sum', 'Quantity':'sum'})).reset_index()\n",
    "Sales_MoM.plot(x='month_year');"
   ]
  },
  {
   "cell_type": "markdown",
   "id": "4954e43c",
   "metadata": {},
   "source": [
    "From the previous chart, we can conclude, the growth seems to have occurred since August and reached its highest point in November 2011."
   ]
  },
  {
   "cell_type": "markdown",
   "id": "78484bd9",
   "metadata": {},
   "source": [
    "#### Top Sales by Product "
   ]
  },
  {
   "cell_type": "code",
   "execution_count": 23,
   "id": "f46f9ebf",
   "metadata": {},
   "outputs": [
    {
     "name": "stdout",
     "output_type": "stream",
     "text": [
      "                                  Total_Order     Sales\n",
      "Description                                            \n",
      "PARTY BUNTING                            1268  34952.85\n",
      "SPOTTY BUNTING                            972  23379.40\n",
      "ASSORTED COLOUR BIRD ORNAMENT            1144  22848.80\n",
      "JAM MAKING SET WITH JARS                  824  21137.25\n",
      "HOT WATER BOTTLE KEEP CALM                723  20617.35\n",
      "SET OF 3 CAKE TINS PANTRY DESIGN         1113  20583.97\n",
      "CHILLI LIGHTS                             443  18379.80\n",
      "CHOCOLATE HOT WATER BOTTLE                684  18308.10\n",
      "RETROSPOT TEA SET CERAMIC 11 PC           806  17941.60\n",
      "NATURAL SLATE HEART CHALKBOARD            936  17750.77\n",
      "                                    Total_Order  Quantity\n",
      "Description                                              \n",
      "PACK OF 72 RETROSPOT CAKE CASES             945     14986\n",
      "ASSORTED COLOUR BIRD ORNAMENT              1144     13520\n",
      "LUNCH BAG RED RETROSPOT                    1195      9776\n",
      "JAM MAKING SET PRINTED                      809      8671\n",
      "PACK OF 60 PINK PAISLEY CAKE CASES          601      8498\n",
      "60 TEATIME FAIRY CAKE CASES                 617      8376\n",
      "VICTORIAN GLASS HANGING T-LIGHT             661      7601\n",
      "LUNCH BAG SUKI DESIGN                      1003      7478\n",
      "RED RETROSPOT WRAP                          299      7447\n",
      "LUNCH BAG BLACK SKULL                      1021      7328\n"
     ]
    }
   ],
   "source": [
    "Sales_Product = new_df.groupby(['Description']).agg({'InvoiceNo': ['nunique'],\n",
    "                                      'InvoiceNo': 'count', 'Sales':'sum'}).rename(columns={'InvoiceNo':'Total_Order'}).sort_values('Sales', ascending=False)[0:10]\n",
    "Quantity_Product = new_df.groupby(['Description']).agg({'InvoiceNo': ['nunique'],\n",
    "                                      'InvoiceNo': 'count', 'Quantity':'sum'}).rename(columns={'InvoiceNo':'Total_Order'}).sort_values('Quantity', ascending=False)[0:10]\n",
    "print(Sales_Product)\n",
    "print(Quantity_Product)"
   ]
  },
  {
   "cell_type": "code",
   "execution_count": 24,
   "id": "7d0d1b94",
   "metadata": {},
   "outputs": [
    {
     "data": {
      "image/png": "[encoded data removed]",
      "text/plain": [
       "<Figure size 576x720 with 2 Axes>"
      ]
     },
     "metadata": {
      "needs_background": "light"
     },
     "output_type": "display_data"
    }
   ],
   "source": [
    "fig, axes = plt.subplots(2,figsize=(8, 10))\n",
    "sns.barplot(x='Sales', y=Sales_Product.index, data = Sales_Product,\n",
    "            label=\"Sales\", ax=axes[0])\n",
    "sns.barplot(x='Quantity', y=Quantity_Product.index, data=Quantity_Product,\n",
    "            label=\"Quantity\", ax=axes[1])\n",
    "plt.show()"
   ]
  },
  {
   "cell_type": "markdown",
   "id": "e66ad68a",
   "metadata": {},
   "source": [
    "This is very interesting. There is some difference in Top 10 Sales and Top 10 Quantity of products transactions. It means the higher quantity of sales does not guarantee te higher sales earned.  We can draw what is the Top 10 quantity that also generated the highest income sales. "
   ]
  },
  {
   "cell_type": "code",
   "execution_count": 25,
   "id": "2f0896e8",
   "metadata": {},
   "outputs": [
    {
     "data": {
      "text/html": [
       "<div>\n",
       "<style scoped>\n",
       "    .dataframe tbody tr th:only-of-type {\n",
       "        vertical-align: middle;\n",
       "    }\n",
       "\n",
       "    .dataframe tbody tr th {\n",
       "        vertical-align: top;\n",
       "    }\n",
       "\n",
       "    .dataframe thead th {\n",
       "        text-align: right;\n",
       "    }\n",
       "</style>\n",
       "<table border=\"1\" class=\"dataframe\">\n",
       "  <thead>\n",
       "    <tr style=\"text-align: right;\">\n",
       "      <th></th>\n",
       "      <th>Total_Order_x</th>\n",
       "      <th>Quantity</th>\n",
       "      <th>Total_Order_y</th>\n",
       "      <th>Sales</th>\n",
       "    </tr>\n",
       "    <tr>\n",
       "      <th>Description</th>\n",
       "      <th></th>\n",
       "      <th></th>\n",
       "      <th></th>\n",
       "      <th></th>\n",
       "    </tr>\n",
       "  </thead>\n",
       "  <tbody>\n",
       "    <tr>\n",
       "      <th>ASSORTED COLOUR BIRD ORNAMENT</th>\n",
       "      <td>1144</td>\n",
       "      <td>13520</td>\n",
       "      <td>1144</td>\n",
       "      <td>22848.8</td>\n",
       "    </tr>\n",
       "  </tbody>\n",
       "</table>\n",
       "</div>"
      ],
      "text/plain": [
       "                               Total_Order_x  Quantity  Total_Order_y    Sales\n",
       "Description                                                                   \n",
       "ASSORTED COLOUR BIRD ORNAMENT           1144     13520           1144  22848.8"
      ]
     },
     "execution_count": 25,
     "metadata": {},
     "output_type": "execute_result"
    }
   ],
   "source": [
    "Quantity_Sales = Quantity_Product.merge(Sales_Product, left_index=True, right_index=True, how='inner')\n",
    "Quantity_Sales"
   ]
  },
  {
   "cell_type": "markdown",
   "id": "154ffb4a",
   "metadata": {},
   "source": [
    "wow, There is only one product that have the highest quantity and sales that is ASSORTED COLOUR BIRD ORNAMENT. "
   ]
  },
  {
   "cell_type": "markdown",
   "id": "df6c12ec",
   "metadata": {},
   "source": [
    "#### Highest and Lowest Month of Sales "
   ]
  },
  {
   "cell_type": "markdown",
   "id": "aa587666",
   "metadata": {},
   "source": [
    "We already know, if November is the highest peak of transactions. But let's make it clear by exploring what is the month that generated the highest and the lowest sales and quantity. "
   ]
  },
  {
   "cell_type": "code",
   "execution_count": 26,
   "id": "7399ceb0",
   "metadata": {},
   "outputs": [
    {
     "data": {
      "image/png": "[encoded data removed]",
      "text/plain": [
       "<Figure size 1080x360 with 2 Axes>"
      ]
     },
     "metadata": {
      "needs_background": "light"
     },
     "output_type": "display_data"
    }
   ],
   "source": [
    "Monthly_Sales = new_df.groupby(['Month']).agg({'Sales':'sum', 'Quantity':'sum'})\n",
    "months_ordered = ['Jan', 'Feb', 'Mar', 'Apr', 'May', 'Jun', 'Jul', 'Aug', 'Sep', 'Oct', 'Nov', 'Dec']\n",
    "Monthly_Sales = Monthly_Sales.reindex(months_ordered)\n",
    "fig, axes = plt.subplots(1,2,figsize=(15,5))\n",
    "sns.barplot(x=Monthly_Sales.index, y='Sales', data = Monthly_Sales,\n",
    "            label=\"Sales\", ax=axes[0])\n",
    "sns.barplot(x=Monthly_Sales.index, y='Quantity', data = Monthly_Sales,\n",
    "            label=\"Quantity\", ax=axes[1])\n",
    "plt.show()"
   ]
  },
  {
   "cell_type": "markdown",
   "id": "caf781d4",
   "metadata": {},
   "source": [
    "#### Highest Sales of Day "
   ]
  },
  {
   "cell_type": "markdown",
   "id": "f9ac0164",
   "metadata": {},
   "source": [
    "How about the day? Instead using of sum(), we will explore the highest average of sales and quantitu by day of the weekend. For note, There is no transactions during Saturday."
   ]
  },
  {
   "cell_type": "code",
   "execution_count": 27,
   "id": "58f4dc6d",
   "metadata": {},
   "outputs": [
    {
     "data": {
      "image/png": "[encoded data removed]",
      "text/plain": [
       "<Figure size 1080x360 with 2 Axes>"
      ]
     },
     "metadata": {
      "needs_background": "light"
     },
     "output_type": "display_data"
    }
   ],
   "source": [
    "Day_Sales = new_df.groupby(['Day']).agg({'Sales':'mean', 'Quantity':'mean'})\n",
    "day_ordered = ['Monday', 'Tuesday', 'Wednesday', 'Thursday', 'Friday', 'Sunday']\n",
    "Day_Sales = Day_Sales.reindex(day_ordered)\n",
    "fig, axes = plt.subplots(1,2,figsize=(15,5))\n",
    "sns.barplot(x=Day_Sales.index, y='Sales', data = Day_Sales,\n",
    "            label=\"Sales\", ax=axes[0])\n",
    "sns.barplot(x=Day_Sales.index, y='Quantity', data = Day_Sales,\n",
    "            label=\"Quantity\", ax=axes[1])\n",
    "plt.show()"
   ]
  },
  {
   "cell_type": "markdown",
   "id": "ed21219c",
   "metadata": {},
   "source": [
    "It's quitely close. But we know, Friday is the best day for shopping and Sunday is the 'worst' day for shopping."
   ]
  },
  {
   "cell_type": "markdown",
   "id": "791e633f",
   "metadata": {},
   "source": [
    "#### Highest Sales of Hour"
   ]
  },
  {
   "cell_type": "markdown",
   "id": "955f5a39",
   "metadata": {},
   "source": [
    "Now, what is the best time for shopping?"
   ]
  },
  {
   "cell_type": "code",
   "execution_count": 28,
   "id": "875da502",
   "metadata": {},
   "outputs": [
    {
     "data": {
      "image/png": "[encoded data removed]",
      "text/plain": [
       "<Figure size 1080x360 with 2 Axes>"
      ]
     },
     "metadata": {
      "needs_background": "light"
     },
     "output_type": "display_data"
    }
   ],
   "source": [
    "Hour_Sales = new_df.groupby(['hour']).agg({'Sales':'mean', 'Quantity':'mean'})\n",
    "fig, axes = plt.subplots(1,2,figsize=(15,5))\n",
    "sns.barplot(x=Hour_Sales.index, y='Sales', data = Hour_Sales,\n",
    "            label=\"Sales\", ax=axes[0])\n",
    "sns.barplot(x=Hour_Sales.index, y='Quantity', data = Hour_Sales,\n",
    "            label=\"Quantity\", ax=axes[1])\n",
    "plt.show()"
   ]
  },
  {
   "cell_type": "markdown",
   "id": "9c7d19a0",
   "metadata": {},
   "source": [
    "The answer is morning. Most of transactions happen during morning Especially at 7 a.m, and 8- 10 a.m respectively."
   ]
  },
  {
   "cell_type": "markdown",
   "id": "212f6e92",
   "metadata": {},
   "source": [
    "### Customer"
   ]
  },
  {
   "cell_type": "markdown",
   "id": "87f232b0",
   "metadata": {},
   "source": [
    "#### Customer Demography "
   ]
  },
  {
   "cell_type": "code",
   "execution_count": 29,
   "id": "639a4808",
   "metadata": {},
   "outputs": [
    {
     "name": "stdout",
     "output_type": "stream",
     "text": [
      "                CustomerID\n",
      "Country                   \n",
      "United Kingdom      272708\n",
      "Germany               6934\n",
      "France                6535\n",
      "EIRE                  4920\n",
      "Spain                 1849\n",
      "Belgium               1527\n",
      "Switzerland           1313\n",
      "Portugal              1176\n",
      "Norway                 717\n",
      "Netherlands            576\n"
     ]
    },
    {
     "data": {
      "image/png": "[encoded data removed]",
      "text/plain": [
       "<Figure size 360x360 with 1 Axes>"
      ]
     },
     "metadata": {},
     "output_type": "display_data"
    }
   ],
   "source": [
    "Customer_Demog = new_df.groupby('Country').agg({'CustomerID': ['nunique'],\n",
    "                                      'CustomerID': 'count'})\n",
    "print(Customer_Demog.sort_values('CustomerID', ascending=False)[0:10])\n",
    "\n",
    "f, (ax) = plt.subplots(1, figsize=(5,5))\n",
    "def autopct(pct):\n",
    "    return ('%1.2f%%' % pct) if pct > 70 else ''\n",
    "\n",
    "p,t,a = ax.pie(Customer_Demog.CustomerID, autopct=autopct)\n",
    "ax.axis('equal')\n",
    "\n",
    "# normalize dataframe (not actually needed here, but for general case)\n",
    "normsizes = Customer_Demog.CustomerID/Customer_Demog.CustomerID.sum()*100\n",
    "\n",
    "# create handles and labels for legend, take only those where value is > 1\n",
    "h,l = zip(*[(h,lab) for h,lab,i in zip(p,Customer_Demog.index.values,normsizes.values) if i > 70])\n",
    "\n",
    "ax.set_title('Customer Demography')\n",
    "ax.legend(h, l,loc=\"best\", bbox_to_anchor=(1,1))\n",
    "plt.show()"
   ]
  },
  {
   "cell_type": "markdown",
   "id": "b22c6138",
   "metadata": {},
   "source": [
    "Just like what happen to transactions and quantity, from the previous chart we know. Most of Customer with the percentage 0f 80% more is coming from the United Kingdom (UK) or domestic customer. Now let's explore, where is the best distribution of foreign custoemr for online retail."
   ]
  },
  {
   "cell_type": "code",
   "execution_count": 30,
   "id": "2ebbca90",
   "metadata": {},
   "outputs": [
    {
     "data": {
      "text/html": [
       "<div>\n",
       "<style scoped>\n",
       "    .dataframe tbody tr th:only-of-type {\n",
       "        vertical-align: middle;\n",
       "    }\n",
       "\n",
       "    .dataframe tbody tr th {\n",
       "        vertical-align: top;\n",
       "    }\n",
       "\n",
       "    .dataframe thead th {\n",
       "        text-align: right;\n",
       "    }\n",
       "</style>\n",
       "<table border=\"1\" class=\"dataframe\">\n",
       "  <thead>\n",
       "    <tr style=\"text-align: right;\">\n",
       "      <th></th>\n",
       "      <th>Country</th>\n",
       "      <th>CustomerID</th>\n",
       "    </tr>\n",
       "  </thead>\n",
       "  <tbody>\n",
       "    <tr>\n",
       "      <th>14</th>\n",
       "      <td>Germany</td>\n",
       "      <td>6934</td>\n",
       "    </tr>\n",
       "    <tr>\n",
       "      <th>13</th>\n",
       "      <td>France</td>\n",
       "      <td>6535</td>\n",
       "    </tr>\n",
       "    <tr>\n",
       "      <th>10</th>\n",
       "      <td>EIRE</td>\n",
       "      <td>4920</td>\n",
       "    </tr>\n",
       "    <tr>\n",
       "      <th>30</th>\n",
       "      <td>Spain</td>\n",
       "      <td>1849</td>\n",
       "    </tr>\n",
       "    <tr>\n",
       "      <th>3</th>\n",
       "      <td>Belgium</td>\n",
       "      <td>1527</td>\n",
       "    </tr>\n",
       "    <tr>\n",
       "      <th>32</th>\n",
       "      <td>Switzerland</td>\n",
       "      <td>1313</td>\n",
       "    </tr>\n",
       "    <tr>\n",
       "      <th>26</th>\n",
       "      <td>Portugal</td>\n",
       "      <td>1176</td>\n",
       "    </tr>\n",
       "    <tr>\n",
       "      <th>24</th>\n",
       "      <td>Norway</td>\n",
       "      <td>717</td>\n",
       "    </tr>\n",
       "    <tr>\n",
       "      <th>23</th>\n",
       "      <td>Netherlands</td>\n",
       "      <td>576</td>\n",
       "    </tr>\n",
       "    <tr>\n",
       "      <th>18</th>\n",
       "      <td>Italy</td>\n",
       "      <td>570</td>\n",
       "    </tr>\n",
       "  </tbody>\n",
       "</table>\n",
       "</div>"
      ],
      "text/plain": [
       "        Country  CustomerID\n",
       "14      Germany        6934\n",
       "13       France        6535\n",
       "10         EIRE        4920\n",
       "30        Spain        1849\n",
       "3       Belgium        1527\n",
       "32  Switzerland        1313\n",
       "26     Portugal        1176\n",
       "24       Norway         717\n",
       "23  Netherlands         576\n",
       "18        Italy         570"
      ]
     },
     "execution_count": 30,
     "metadata": {},
     "output_type": "execute_result"
    }
   ],
   "source": [
    "Foreign_Demog = Customer_Demog.reset_index().query('Country != \"United Kingdom\"')\n",
    "Foreign_Demog.sort_values('CustomerID', ascending=False).head(10)"
   ]
  },
  {
   "cell_type": "code",
   "execution_count": 31,
   "id": "9b37b4bd",
   "metadata": {},
   "outputs": [
    {
     "data": {
      "image/png": "[encoded data removed]",
      "text/plain": [
       "<Figure size 648x432 with 1 Axes>"
      ]
     },
     "metadata": {},
     "output_type": "display_data"
    }
   ],
   "source": [
    "f, ax = plt.subplots(1, figsize=(9,6))\n",
    "\n",
    "def autopct(pct):\n",
    "    return ('%1.2f%%' % pct) if pct > 15 else ''\n",
    "\n",
    "p,t,a = ax.pie(Foreign_Demog.CustomerID, autopct=autopct)\n",
    "ax.axis('equal')\n",
    "# normalize dataframe (not actually needed here, but for general case)\n",
    "normsizes = Foreign_Demog.CustomerID/Foreign_Demog.CustomerID.sum()*100\n",
    "\n",
    "# create handles and labels for legend, take only those where value is > 1\n",
    "h,l = zip(*[(h,lab) for h,lab,i in zip(p,Foreign_Demog.Country.values,normsizes.values) if i > 15])\n",
    "ax.set_title('Total Customer')\n",
    "ax.legend(h, l,loc=\"best\", bbox_to_anchor=(1,1))\n",
    "\n",
    "plt.show()"
   ]
  },
  {
   "cell_type": "markdown",
   "id": "2f722d7a",
   "metadata": {},
   "source": [
    "Similar to the transaction and quantity, the Top foreign Customers are mostly coming from Germany, France and Ireland."
   ]
  },
  {
   "cell_type": "markdown",
   "id": "cd8474ce",
   "metadata": {},
   "source": [
    "#### Top Customer "
   ]
  },
  {
   "cell_type": "markdown",
   "id": "d3625c91",
   "metadata": {},
   "source": [
    "Now, it's time to answer, Who are the customers that generated the highest Sales and Quantity?"
   ]
  },
  {
   "cell_type": "code",
   "execution_count": 32,
   "id": "481ba4ea",
   "metadata": {},
   "outputs": [
    {
     "name": "stdout",
     "output_type": "stream",
     "text": [
      "               Sales\n",
      "CustomerID          \n",
      "14911.0     76424.67\n",
      "13089.0     32957.08\n",
      "14096.0     32949.41\n",
      "17841.0     29176.25\n",
      "14298.0     20823.48\n",
      "12748.0     18388.33\n",
      "14156.0     17179.68\n",
      "13081.0     16012.81\n",
      "15311.0     14220.87\n",
      "17675.0     13717.15\n"
     ]
    }
   ],
   "source": [
    "Sales_Customer = new_df.groupby(['CustomerID']).agg({'Sales':'sum'}).sort_values('Sales', ascending=False)[0:10]\n",
    "Quantity_Customer = new_df.groupby(['CustomerID']).agg({'Quantity':'sum'}).sort_values('Quantity', ascending=False)[0:10]\n",
    "print(Sales_Customer)"
   ]
  },
  {
   "cell_type": "code",
   "execution_count": 33,
   "id": "1cf3e8c7",
   "metadata": {},
   "outputs": [
    {
     "name": "stdout",
     "output_type": "stream",
     "text": [
      "            Quantity\n",
      "CustomerID          \n",
      "14911.0        45072\n",
      "13089.0        18858\n",
      "17841.0        17602\n",
      "14298.0        14482\n",
      "12748.0        13372\n",
      "14096.0        11819\n",
      "13081.0        11129\n",
      "14156.0         7422\n",
      "17735.0         7197\n",
      "12921.0         7174\n"
     ]
    }
   ],
   "source": [
    "print(Quantity_Customer)"
   ]
  },
  {
   "cell_type": "code",
   "execution_count": 34,
   "id": "d52ebe60",
   "metadata": {},
   "outputs": [
    {
     "data": {
      "image/png": "[encoded data removed]",
      "text/plain": [
       "<Figure size 576x720 with 2 Axes>"
      ]
     },
     "metadata": {
      "needs_background": "light"
     },
     "output_type": "display_data"
    }
   ],
   "source": [
    "fig, axes = plt.subplots(2,figsize=(8, 10))\n",
    "sns.barplot(x='Sales', y=Sales_Customer.index, data = Sales_Customer,\n",
    "            label=\"Sales\", ax=axes[0])\n",
    "sns.barplot(x='Quantity', y=Quantity_Customer.index, data=Quantity_Customer,\n",
    "            label=\"Quantity\", ax=axes[1])\n",
    "plt.show()"
   ]
  },
  {
   "cell_type": "markdown",
   "id": "c1abee16",
   "metadata": {},
   "source": [
    "Next, Who is the customer that generated BOTH the highest quantity and sales?"
   ]
  },
  {
   "cell_type": "code",
   "execution_count": 35,
   "id": "222fa83e",
   "metadata": {},
   "outputs": [
    {
     "data": {
      "text/html": [
       "<div>\n",
       "<style scoped>\n",
       "    .dataframe tbody tr th:only-of-type {\n",
       "        vertical-align: middle;\n",
       "    }\n",
       "\n",
       "    .dataframe tbody tr th {\n",
       "        vertical-align: top;\n",
       "    }\n",
       "\n",
       "    .dataframe thead th {\n",
       "        text-align: right;\n",
       "    }\n",
       "</style>\n",
       "<table border=\"1\" class=\"dataframe\">\n",
       "  <thead>\n",
       "    <tr style=\"text-align: right;\">\n",
       "      <th></th>\n",
       "      <th>Quantity</th>\n",
       "      <th>Sales</th>\n",
       "    </tr>\n",
       "    <tr>\n",
       "      <th>CustomerID</th>\n",
       "      <th></th>\n",
       "      <th></th>\n",
       "    </tr>\n",
       "  </thead>\n",
       "  <tbody>\n",
       "    <tr>\n",
       "      <th>14911.0</th>\n",
       "      <td>45072</td>\n",
       "      <td>76424.67</td>\n",
       "    </tr>\n",
       "    <tr>\n",
       "      <th>13089.0</th>\n",
       "      <td>18858</td>\n",
       "      <td>32957.08</td>\n",
       "    </tr>\n",
       "    <tr>\n",
       "      <th>17841.0</th>\n",
       "      <td>17602</td>\n",
       "      <td>29176.25</td>\n",
       "    </tr>\n",
       "    <tr>\n",
       "      <th>14298.0</th>\n",
       "      <td>14482</td>\n",
       "      <td>20823.48</td>\n",
       "    </tr>\n",
       "    <tr>\n",
       "      <th>12748.0</th>\n",
       "      <td>13372</td>\n",
       "      <td>18388.33</td>\n",
       "    </tr>\n",
       "    <tr>\n",
       "      <th>14096.0</th>\n",
       "      <td>11819</td>\n",
       "      <td>32949.41</td>\n",
       "    </tr>\n",
       "    <tr>\n",
       "      <th>13081.0</th>\n",
       "      <td>11129</td>\n",
       "      <td>16012.81</td>\n",
       "    </tr>\n",
       "    <tr>\n",
       "      <th>14156.0</th>\n",
       "      <td>7422</td>\n",
       "      <td>17179.68</td>\n",
       "    </tr>\n",
       "  </tbody>\n",
       "</table>\n",
       "</div>"
      ],
      "text/plain": [
       "            Quantity     Sales\n",
       "CustomerID                    \n",
       "14911.0        45072  76424.67\n",
       "13089.0        18858  32957.08\n",
       "17841.0        17602  29176.25\n",
       "14298.0        14482  20823.48\n",
       "12748.0        13372  18388.33\n",
       "14096.0        11819  32949.41\n",
       "13081.0        11129  16012.81\n",
       "14156.0         7422  17179.68"
      ]
     },
     "execution_count": 35,
     "metadata": {},
     "output_type": "execute_result"
    }
   ],
   "source": [
    "Quantity_Sales_Cust = Quantity_Customer.merge(Sales_Customer, left_index=True, right_index=True, how='inner')\n",
    "Quantity_Sales_Cust"
   ]
  },
  {
   "cell_type": "markdown",
   "id": "939f7634",
   "metadata": {},
   "source": [
    "Wow, it's very interesting. there are 8 customers that have the highest quantity and generated the highest sales revenue."
   ]
  },
  {
   "cell_type": "markdown",
   "id": "fba6363b",
   "metadata": {},
   "source": [
    "#### Order vs Sales"
   ]
  },
  {
   "cell_type": "markdown",
   "id": "c642d330",
   "metadata": {},
   "source": [
    "We know, It's common if in one transaction (order) contains more than one quantity of products. Now let's find who are the top 10 of customers who have the high total order and their sales revenue generated. "
   ]
  },
  {
   "cell_type": "code",
   "execution_count": 36,
   "id": "abd9cc41",
   "metadata": {
    "scrolled": true
   },
   "outputs": [
    {
     "data": {
      "text/html": [
       "<div>\n",
       "<style scoped>\n",
       "    .dataframe tbody tr th:only-of-type {\n",
       "        vertical-align: middle;\n",
       "    }\n",
       "\n",
       "    .dataframe tbody tr th {\n",
       "        vertical-align: top;\n",
       "    }\n",
       "\n",
       "    .dataframe thead th {\n",
       "        text-align: right;\n",
       "    }\n",
       "</style>\n",
       "<table border=\"1\" class=\"dataframe\">\n",
       "  <thead>\n",
       "    <tr style=\"text-align: right;\">\n",
       "      <th></th>\n",
       "      <th>Total_Order</th>\n",
       "      <th>Sales</th>\n",
       "    </tr>\n",
       "    <tr>\n",
       "      <th>CustomerID</th>\n",
       "      <th></th>\n",
       "      <th></th>\n",
       "    </tr>\n",
       "  </thead>\n",
       "  <tbody>\n",
       "    <tr>\n",
       "      <th>17841.0</th>\n",
       "      <td>6504</td>\n",
       "      <td>29176.25</td>\n",
       "    </tr>\n",
       "    <tr>\n",
       "      <th>14911.0</th>\n",
       "      <td>4042</td>\n",
       "      <td>76424.67</td>\n",
       "    </tr>\n",
       "    <tr>\n",
       "      <th>14096.0</th>\n",
       "      <td>3968</td>\n",
       "      <td>32949.41</td>\n",
       "    </tr>\n",
       "    <tr>\n",
       "      <th>12748.0</th>\n",
       "      <td>3634</td>\n",
       "      <td>18388.33</td>\n",
       "    </tr>\n",
       "    <tr>\n",
       "      <th>14606.0</th>\n",
       "      <td>2087</td>\n",
       "      <td>6845.35</td>\n",
       "    </tr>\n",
       "    <tr>\n",
       "      <th>15311.0</th>\n",
       "      <td>1631</td>\n",
       "      <td>14220.87</td>\n",
       "    </tr>\n",
       "    <tr>\n",
       "      <th>13263.0</th>\n",
       "      <td>1435</td>\n",
       "      <td>5970.94</td>\n",
       "    </tr>\n",
       "    <tr>\n",
       "      <th>13089.0</th>\n",
       "      <td>1397</td>\n",
       "      <td>32957.08</td>\n",
       "    </tr>\n",
       "    <tr>\n",
       "      <th>15039.0</th>\n",
       "      <td>1086</td>\n",
       "      <td>11738.60</td>\n",
       "    </tr>\n",
       "    <tr>\n",
       "      <th>18118.0</th>\n",
       "      <td>1054</td>\n",
       "      <td>3957.69</td>\n",
       "    </tr>\n",
       "  </tbody>\n",
       "</table>\n",
       "</div>"
      ],
      "text/plain": [
       "            Total_Order     Sales\n",
       "CustomerID                       \n",
       "17841.0            6504  29176.25\n",
       "14911.0            4042  76424.67\n",
       "14096.0            3968  32949.41\n",
       "12748.0            3634  18388.33\n",
       "14606.0            2087   6845.35\n",
       "15311.0            1631  14220.87\n",
       "13263.0            1435   5970.94\n",
       "13089.0            1397  32957.08\n",
       "15039.0            1086  11738.60\n",
       "18118.0            1054   3957.69"
      ]
     },
     "execution_count": 36,
     "metadata": {},
     "output_type": "execute_result"
    }
   ],
   "source": [
    "Customer_Order = new_df.groupby('CustomerID').agg({'InvoiceNo': ['nunique'],\n",
    "                                      'InvoiceNo': 'count', 'Sales':'sum'}).rename(columns={'InvoiceNo':'Total_Order'}).sort_values('Total_Order', ascending=False)[0:10]\n",
    "Customer_Order"
   ]
  },
  {
   "cell_type": "code",
   "execution_count": 37,
   "id": "08d73b81",
   "metadata": {},
   "outputs": [
    {
     "data": {
      "image/png": "[encoded data removed]",
      "text/plain": [
       "<Figure size 720x432 with 2 Axes>"
      ]
     },
     "metadata": {
      "needs_background": "light"
     },
     "output_type": "display_data"
    }
   ],
   "source": [
    "col1 = 'cadetblue'\n",
    "col2 = 'bisque'\n",
    "\n",
    "plt.figure(figsize=(10, 6))\n",
    "ax = sns.barplot(x=Customer_Order.index, y=Customer_Order.Sales, data=Customer_Order, label='Sales', color = col1)\n",
    "width_scale = 0.5\n",
    "for bar in ax.containers[0]:\n",
    "    bar.set_width(bar.get_width() * width_scale)\n",
    "    ax.legend(bbox_to_anchor=(1.02, 1.05), loc='upper left', borderaxespad=0)\n",
    "\n",
    "ax2 = ax.twinx()\n",
    "sns.barplot(x =Customer_Order.index, y = Customer_Order.Total_Order, data=Customer_Order, alpha=0.7, color = col2, label = 'Total Order', ax=ax2)\n",
    "for bar in ax2.containers[0]:\n",
    "    x = bar.get_x()\n",
    "    w = bar.get_width()\n",
    "    bar.set_x(x + w * (1- width_scale))\n",
    "    bar.set_width(w * width_scale)\n",
    "    ax2.legend(bbox_to_anchor=(1.02, 0.98), loc='upper left', borderaxespad=0)\n",
    "plt.show()"
   ]
  },
  {
   "cell_type": "markdown",
   "id": "972ca515",
   "metadata": {},
   "source": [
    "From the previous chart we know, not all of the customers that have the higher transactions also generated the higher sales revenue. Now we will found out, Who are the customers that have BOTH in Top 10 of total order and top 10 of Sales revenue. "
   ]
  },
  {
   "cell_type": "code",
   "execution_count": 38,
   "id": "d233b2ad",
   "metadata": {},
   "outputs": [
    {
     "data": {
      "text/html": [
       "<div>\n",
       "<style scoped>\n",
       "    .dataframe tbody tr th:only-of-type {\n",
       "        vertical-align: middle;\n",
       "    }\n",
       "\n",
       "    .dataframe tbody tr th {\n",
       "        vertical-align: top;\n",
       "    }\n",
       "\n",
       "    .dataframe thead th {\n",
       "        text-align: right;\n",
       "    }\n",
       "</style>\n",
       "<table border=\"1\" class=\"dataframe\">\n",
       "  <thead>\n",
       "    <tr style=\"text-align: right;\">\n",
       "      <th></th>\n",
       "      <th>Total_Order</th>\n",
       "      <th>Sales_x</th>\n",
       "      <th>Sales_y</th>\n",
       "    </tr>\n",
       "    <tr>\n",
       "      <th>CustomerID</th>\n",
       "      <th></th>\n",
       "      <th></th>\n",
       "      <th></th>\n",
       "    </tr>\n",
       "  </thead>\n",
       "  <tbody>\n",
       "    <tr>\n",
       "      <th>17841.0</th>\n",
       "      <td>6504</td>\n",
       "      <td>29176.25</td>\n",
       "      <td>29176.25</td>\n",
       "    </tr>\n",
       "    <tr>\n",
       "      <th>14911.0</th>\n",
       "      <td>4042</td>\n",
       "      <td>76424.67</td>\n",
       "      <td>76424.67</td>\n",
       "    </tr>\n",
       "    <tr>\n",
       "      <th>14096.0</th>\n",
       "      <td>3968</td>\n",
       "      <td>32949.41</td>\n",
       "      <td>32949.41</td>\n",
       "    </tr>\n",
       "    <tr>\n",
       "      <th>12748.0</th>\n",
       "      <td>3634</td>\n",
       "      <td>18388.33</td>\n",
       "      <td>18388.33</td>\n",
       "    </tr>\n",
       "    <tr>\n",
       "      <th>15311.0</th>\n",
       "      <td>1631</td>\n",
       "      <td>14220.87</td>\n",
       "      <td>14220.87</td>\n",
       "    </tr>\n",
       "    <tr>\n",
       "      <th>13089.0</th>\n",
       "      <td>1397</td>\n",
       "      <td>32957.08</td>\n",
       "      <td>32957.08</td>\n",
       "    </tr>\n",
       "  </tbody>\n",
       "</table>\n",
       "</div>"
      ],
      "text/plain": [
       "            Total_Order   Sales_x   Sales_y\n",
       "CustomerID                                 \n",
       "17841.0            6504  29176.25  29176.25\n",
       "14911.0            4042  76424.67  76424.67\n",
       "14096.0            3968  32949.41  32949.41\n",
       "12748.0            3634  18388.33  18388.33\n",
       "15311.0            1631  14220.87  14220.87\n",
       "13089.0            1397  32957.08  32957.08"
      ]
     },
     "execution_count": 38,
     "metadata": {},
     "output_type": "execute_result"
    }
   ],
   "source": [
    "Order_Sales_Cust = Customer_Order.merge(Sales_Customer, left_index=True, right_index=True, how='inner')\n",
    "Order_Sales_Cust"
   ]
  },
  {
   "cell_type": "markdown",
   "id": "d11c8d17",
   "metadata": {},
   "source": [
    "Wow, it's very interesting. there are 6 customers that have the highest order and also generated the highest sales revenue"
   ]
  },
  {
   "cell_type": "markdown",
   "id": "54f5d7ea",
   "metadata": {},
   "source": [
    "####  ARPU (Average Revenue Per User) of Customer"
   ]
  },
  {
   "cell_type": "markdown",
   "id": "8ebb73f4",
   "metadata": {},
   "source": [
    "So, huw much we got per transaction? It's time to explore the ARPU for each customer. Average revenue per unit (ARPU) is an indicator of the profitability of a product based on the amount of money that is generated from each of its users or subscribers."
   ]
  },
  {
   "cell_type": "code",
   "execution_count": 39,
   "id": "d859e66f",
   "metadata": {},
   "outputs": [
    {
     "name": "stdout",
     "output_type": "stream",
     "text": [
      "       Total_Order         Sales         arpu\n",
      "count  4173.000000   4173.000000  4173.000000\n",
      "mean     72.650132    939.617012    16.633622\n",
      "std     180.921991   1997.793054    11.446925\n",
      "min       1.000000      1.900000     0.735217\n",
      "25%      13.000000    179.440000     9.553939\n",
      "50%      33.000000    425.770000    15.995000\n",
      "75%      80.000000   1050.270000    19.379038\n",
      "max    6504.000000  76424.670000   166.800000\n"
     ]
    }
   ],
   "source": [
    "customer_arpu = new_df.groupby('CustomerID').agg({'InvoiceNo': ['nunique'],\n",
    "                                      'InvoiceNo': 'count', 'Sales':'sum'}).rename(columns={'InvoiceNo':'Total_Order'})\n",
    "customer_arpu['arpu'] = customer_arpu.Sales / customer_arpu.Total_Order\n",
    "print(customer_arpu.describe())"
   ]
  },
  {
   "cell_type": "code",
   "execution_count": 40,
   "id": "ea44c630",
   "metadata": {},
   "outputs": [
    {
     "name": "stdout",
     "output_type": "stream",
     "text": [
      "            Total_Order  Sales        arpu\n",
      "CustomerID                                \n",
      "16716.0               1  166.8  166.800000\n",
      "16319.0               3  404.4  134.800000\n",
      "14434.0               8  964.8  120.600000\n",
      "15269.0               1  118.8  118.800000\n",
      "13147.0               2  237.6  118.800000\n",
      "13261.0               6  670.5  111.750000\n",
      "13763.0               2  218.4  109.200000\n",
      "12882.0               9  924.6  102.733333\n",
      "15619.0               1   99.6   99.600000\n",
      "13188.0               1   99.6   99.600000\n"
     ]
    }
   ],
   "source": [
    "print(customer_arpu.sort_values('arpu', ascending=False)[0:10])"
   ]
  },
  {
   "cell_type": "markdown",
   "id": "25e97c22",
   "metadata": {},
   "source": [
    "It's very inetersting. The top 10 ARPU are the consumers that only doing a few transactions or order. Now let's move to know the ARPU from top 10 Customer by their Sales."
   ]
  },
  {
   "cell_type": "markdown",
   "id": "78281376",
   "metadata": {},
   "source": [
    "#### Arpu TOP Customer"
   ]
  },
  {
   "cell_type": "code",
   "execution_count": 41,
   "id": "8a1b1dec",
   "metadata": {},
   "outputs": [
    {
     "data": {
      "text/html": [
       "<div>\n",
       "<style scoped>\n",
       "    .dataframe tbody tr th:only-of-type {\n",
       "        vertical-align: middle;\n",
       "    }\n",
       "\n",
       "    .dataframe tbody tr th {\n",
       "        vertical-align: top;\n",
       "    }\n",
       "\n",
       "    .dataframe thead th {\n",
       "        text-align: right;\n",
       "    }\n",
       "</style>\n",
       "<table border=\"1\" class=\"dataframe\">\n",
       "  <thead>\n",
       "    <tr style=\"text-align: right;\">\n",
       "      <th></th>\n",
       "      <th>Total_Order</th>\n",
       "      <th>Sales</th>\n",
       "      <th>arpu</th>\n",
       "    </tr>\n",
       "    <tr>\n",
       "      <th>CustomerID</th>\n",
       "      <th></th>\n",
       "      <th></th>\n",
       "      <th></th>\n",
       "    </tr>\n",
       "  </thead>\n",
       "  <tbody>\n",
       "    <tr>\n",
       "      <th>14911.0</th>\n",
       "      <td>4042</td>\n",
       "      <td>76424.67</td>\n",
       "      <td>18.907637</td>\n",
       "    </tr>\n",
       "    <tr>\n",
       "      <th>13089.0</th>\n",
       "      <td>1397</td>\n",
       "      <td>32957.08</td>\n",
       "      <td>23.591324</td>\n",
       "    </tr>\n",
       "    <tr>\n",
       "      <th>14096.0</th>\n",
       "      <td>3968</td>\n",
       "      <td>32949.41</td>\n",
       "      <td>8.303783</td>\n",
       "    </tr>\n",
       "    <tr>\n",
       "      <th>17841.0</th>\n",
       "      <td>6504</td>\n",
       "      <td>29176.25</td>\n",
       "      <td>4.485893</td>\n",
       "    </tr>\n",
       "    <tr>\n",
       "      <th>14298.0</th>\n",
       "      <td>852</td>\n",
       "      <td>20823.48</td>\n",
       "      <td>24.440704</td>\n",
       "    </tr>\n",
       "    <tr>\n",
       "      <th>12748.0</th>\n",
       "      <td>3634</td>\n",
       "      <td>18388.33</td>\n",
       "      <td>5.060080</td>\n",
       "    </tr>\n",
       "    <tr>\n",
       "      <th>14156.0</th>\n",
       "      <td>765</td>\n",
       "      <td>17179.68</td>\n",
       "      <td>22.457098</td>\n",
       "    </tr>\n",
       "    <tr>\n",
       "      <th>13081.0</th>\n",
       "      <td>777</td>\n",
       "      <td>16012.81</td>\n",
       "      <td>20.608507</td>\n",
       "    </tr>\n",
       "    <tr>\n",
       "      <th>15311.0</th>\n",
       "      <td>1631</td>\n",
       "      <td>14220.87</td>\n",
       "      <td>8.719111</td>\n",
       "    </tr>\n",
       "    <tr>\n",
       "      <th>17675.0</th>\n",
       "      <td>542</td>\n",
       "      <td>13717.15</td>\n",
       "      <td>25.308395</td>\n",
       "    </tr>\n",
       "  </tbody>\n",
       "</table>\n",
       "</div>"
      ],
      "text/plain": [
       "            Total_Order     Sales       arpu\n",
       "CustomerID                                  \n",
       "14911.0            4042  76424.67  18.907637\n",
       "13089.0            1397  32957.08  23.591324\n",
       "14096.0            3968  32949.41   8.303783\n",
       "17841.0            6504  29176.25   4.485893\n",
       "14298.0             852  20823.48  24.440704\n",
       "12748.0            3634  18388.33   5.060080\n",
       "14156.0             765  17179.68  22.457098\n",
       "13081.0             777  16012.81  20.608507\n",
       "15311.0            1631  14220.87   8.719111\n",
       "17675.0             542  13717.15  25.308395"
      ]
     },
     "execution_count": 41,
     "metadata": {},
     "output_type": "execute_result"
    }
   ],
   "source": [
    "Top_Arpu = customer_arpu.sort_values('Sales', ascending=False)[0:10]\n",
    "Top_Arpu"
   ]
  },
  {
   "cell_type": "code",
   "execution_count": 42,
   "id": "7128b0f3",
   "metadata": {},
   "outputs": [
    {
     "data": {
      "text/html": [
       "<div>\n",
       "<style scoped>\n",
       "    .dataframe tbody tr th:only-of-type {\n",
       "        vertical-align: middle;\n",
       "    }\n",
       "\n",
       "    .dataframe tbody tr th {\n",
       "        vertical-align: top;\n",
       "    }\n",
       "\n",
       "    .dataframe thead th {\n",
       "        text-align: right;\n",
       "    }\n",
       "</style>\n",
       "<table border=\"1\" class=\"dataframe\">\n",
       "  <thead>\n",
       "    <tr style=\"text-align: right;\">\n",
       "      <th></th>\n",
       "      <th>Total_Order</th>\n",
       "      <th>Sales</th>\n",
       "      <th>arpu</th>\n",
       "    </tr>\n",
       "  </thead>\n",
       "  <tbody>\n",
       "    <tr>\n",
       "      <th>count</th>\n",
       "      <td>10.000000</td>\n",
       "      <td>10.00000</td>\n",
       "      <td>10.000000</td>\n",
       "    </tr>\n",
       "    <tr>\n",
       "      <th>mean</th>\n",
       "      <td>2411.200000</td>\n",
       "      <td>27184.97300</td>\n",
       "      <td>16.188253</td>\n",
       "    </tr>\n",
       "    <tr>\n",
       "      <th>std</th>\n",
       "      <td>2007.549573</td>\n",
       "      <td>18818.67204</td>\n",
       "      <td>8.505240</td>\n",
       "    </tr>\n",
       "    <tr>\n",
       "      <th>min</th>\n",
       "      <td>542.000000</td>\n",
       "      <td>13717.15000</td>\n",
       "      <td>4.485893</td>\n",
       "    </tr>\n",
       "    <tr>\n",
       "      <th>25%</th>\n",
       "      <td>795.750000</td>\n",
       "      <td>16304.52750</td>\n",
       "      <td>8.407615</td>\n",
       "    </tr>\n",
       "    <tr>\n",
       "      <th>50%</th>\n",
       "      <td>1514.000000</td>\n",
       "      <td>19605.90500</td>\n",
       "      <td>19.758072</td>\n",
       "    </tr>\n",
       "    <tr>\n",
       "      <th>75%</th>\n",
       "      <td>3884.500000</td>\n",
       "      <td>32006.12000</td>\n",
       "      <td>23.307768</td>\n",
       "    </tr>\n",
       "    <tr>\n",
       "      <th>max</th>\n",
       "      <td>6504.000000</td>\n",
       "      <td>76424.67000</td>\n",
       "      <td>25.308395</td>\n",
       "    </tr>\n",
       "  </tbody>\n",
       "</table>\n",
       "</div>"
      ],
      "text/plain": [
       "       Total_Order        Sales       arpu\n",
       "count    10.000000     10.00000  10.000000\n",
       "mean   2411.200000  27184.97300  16.188253\n",
       "std    2007.549573  18818.67204   8.505240\n",
       "min     542.000000  13717.15000   4.485893\n",
       "25%     795.750000  16304.52750   8.407615\n",
       "50%    1514.000000  19605.90500  19.758072\n",
       "75%    3884.500000  32006.12000  23.307768\n",
       "max    6504.000000  76424.67000  25.308395"
      ]
     },
     "execution_count": 42,
     "metadata": {},
     "output_type": "execute_result"
    }
   ],
   "source": [
    "Top_Arpu.describe()"
   ]
  },
  {
   "cell_type": "code",
   "execution_count": 43,
   "id": "db7a76e7",
   "metadata": {},
   "outputs": [
    {
     "data": {
      "image/png": "[encoded data removed]",
      "text/plain": [
       "<Figure size 720x432 with 2 Axes>"
      ]
     },
     "metadata": {
      "needs_background": "light"
     },
     "output_type": "display_data"
    }
   ],
   "source": [
    "col1 = 'khaki'\n",
    "col2 = 'darkcyan'\n",
    "\n",
    "plt.figure(figsize=(10, 6))\n",
    "ax = sns.barplot(x=Top_Arpu.index, y=Top_Arpu.Sales, data=Top_Arpu, label='Sales', color = col1)\n",
    "width_scale = 0.5\n",
    "for bar in ax.containers[0]:\n",
    "    bar.set_width(bar.get_width() * width_scale)\n",
    "    ax.legend(bbox_to_anchor=(1.02, 1.05), loc='upper left', borderaxespad=0)\n",
    "\n",
    "ax2 = ax.twinx()\n",
    "sns.barplot(x =Top_Arpu.index, y =Top_Arpu.arpu, data=Top_Arpu, alpha=0.7, color = col2, label = 'arpu', ax=ax2)\n",
    "for bar in ax2.containers[0]:\n",
    "    x = bar.get_x()\n",
    "    w = bar.get_width()\n",
    "    bar.set_x(x + w * (1- width_scale))\n",
    "    bar.set_width(w * width_scale)\n",
    "    ax2.legend(bbox_to_anchor=(1.02, 0.98), loc='upper left', borderaxespad=0)\n",
    "plt.show()"
   ]
  },
  {
   "cell_type": "markdown",
   "id": "fd786067",
   "metadata": {},
   "source": [
    "From the previous chart we know, we have some differents ARPU vs their sales generated. It means the higher ARPU does not guarantee the higher sales earned. We also can say, The high ARPU among TOP 10 are preferred to buy the more expensive goods."
   ]
  },
  {
   "cell_type": "markdown",
   "id": "882e007d",
   "metadata": {},
   "source": [
    "### Customer Segmentation using RFM Analysis"
   ]
  },
  {
   "cell_type": "markdown",
   "id": "e62b0f3d",
   "metadata": {},
   "source": [
    "RFM analysis is a marketing technique used to quantitatively rank and group customers based on the recency, frequency and monetary total of their recent transactions to identify the best customers and perform targeted marketing campaigns.\n",
    "RFM stands for recency, frequency, monetary value. In business analytics, we often use this concept to divide customers into different segments, like high-value customers, medium value customers or low-value customers, and similarly many others.\n",
    "\n",
    "* Recency: How recently has the customer made a transaction with us\n",
    "* Frequency: How frequent is the customer in ordering/buying some product from us\n",
    "* Monetary: How much does the customer spend on purchasing products from us."
   ]
  },
  {
   "cell_type": "code",
   "execution_count": 44,
   "id": "68e141f0",
   "metadata": {},
   "outputs": [
    {
     "data": {
      "text/html": [
       "<div>\n",
       "<style scoped>\n",
       "    .dataframe tbody tr th:only-of-type {\n",
       "        vertical-align: middle;\n",
       "    }\n",
       "\n",
       "    .dataframe tbody tr th {\n",
       "        vertical-align: top;\n",
       "    }\n",
       "\n",
       "    .dataframe thead th {\n",
       "        text-align: right;\n",
       "    }\n",
       "</style>\n",
       "<table border=\"1\" class=\"dataframe\">\n",
       "  <thead>\n",
       "    <tr style=\"text-align: right;\">\n",
       "      <th></th>\n",
       "      <th>InvoiceNo</th>\n",
       "      <th>StockCode</th>\n",
       "      <th>Description</th>\n",
       "      <th>Quantity</th>\n",
       "      <th>InvoiceDate</th>\n",
       "      <th>UnitPrice</th>\n",
       "      <th>CustomerID</th>\n",
       "      <th>Country</th>\n",
       "      <th>Date</th>\n",
       "      <th>Year</th>\n",
       "      <th>Month</th>\n",
       "      <th>Day</th>\n",
       "      <th>hour</th>\n",
       "      <th>month_year</th>\n",
       "      <th>Sales</th>\n",
       "    </tr>\n",
       "  </thead>\n",
       "  <tbody>\n",
       "    <tr>\n",
       "      <th>1</th>\n",
       "      <td>536365</td>\n",
       "      <td>71053</td>\n",
       "      <td>WHITE METAL LANTERN</td>\n",
       "      <td>6</td>\n",
       "      <td>2010-12-01 08:26:00</td>\n",
       "      <td>3.39</td>\n",
       "      <td>17850.0</td>\n",
       "      <td>United Kingdom</td>\n",
       "      <td>2010-12-01</td>\n",
       "      <td>2010</td>\n",
       "      <td>Dec</td>\n",
       "      <td>Wednesday</td>\n",
       "      <td>8</td>\n",
       "      <td>2010-12</td>\n",
       "      <td>20.34</td>\n",
       "    </tr>\n",
       "    <tr>\n",
       "      <th>6</th>\n",
       "      <td>536365</td>\n",
       "      <td>21730</td>\n",
       "      <td>GLASS STAR FROSTED T-LIGHT HOLDER</td>\n",
       "      <td>6</td>\n",
       "      <td>2010-12-01 08:26:00</td>\n",
       "      <td>4.25</td>\n",
       "      <td>17850.0</td>\n",
       "      <td>United Kingdom</td>\n",
       "      <td>2010-12-01</td>\n",
       "      <td>2010</td>\n",
       "      <td>Dec</td>\n",
       "      <td>Wednesday</td>\n",
       "      <td>8</td>\n",
       "      <td>2010-12</td>\n",
       "      <td>25.50</td>\n",
       "    </tr>\n",
       "    <tr>\n",
       "      <th>7</th>\n",
       "      <td>536366</td>\n",
       "      <td>22633</td>\n",
       "      <td>HAND WARMER UNION JACK</td>\n",
       "      <td>6</td>\n",
       "      <td>2010-12-01 08:28:00</td>\n",
       "      <td>1.85</td>\n",
       "      <td>17850.0</td>\n",
       "      <td>United Kingdom</td>\n",
       "      <td>2010-12-01</td>\n",
       "      <td>2010</td>\n",
       "      <td>Dec</td>\n",
       "      <td>Wednesday</td>\n",
       "      <td>8</td>\n",
       "      <td>2010-12</td>\n",
       "      <td>11.10</td>\n",
       "    </tr>\n",
       "    <tr>\n",
       "      <th>8</th>\n",
       "      <td>536366</td>\n",
       "      <td>22632</td>\n",
       "      <td>HAND WARMER RED POLKA DOT</td>\n",
       "      <td>6</td>\n",
       "      <td>2010-12-01 08:28:00</td>\n",
       "      <td>1.85</td>\n",
       "      <td>17850.0</td>\n",
       "      <td>United Kingdom</td>\n",
       "      <td>2010-12-01</td>\n",
       "      <td>2010</td>\n",
       "      <td>Dec</td>\n",
       "      <td>Wednesday</td>\n",
       "      <td>8</td>\n",
       "      <td>2010-12</td>\n",
       "      <td>11.10</td>\n",
       "    </tr>\n",
       "    <tr>\n",
       "      <th>10</th>\n",
       "      <td>536367</td>\n",
       "      <td>22745</td>\n",
       "      <td>POPPY'S PLAYHOUSE BEDROOM</td>\n",
       "      <td>6</td>\n",
       "      <td>2010-12-01 08:34:00</td>\n",
       "      <td>2.10</td>\n",
       "      <td>13047.0</td>\n",
       "      <td>United Kingdom</td>\n",
       "      <td>2010-12-01</td>\n",
       "      <td>2010</td>\n",
       "      <td>Dec</td>\n",
       "      <td>Wednesday</td>\n",
       "      <td>8</td>\n",
       "      <td>2010-12</td>\n",
       "      <td>12.60</td>\n",
       "    </tr>\n",
       "  </tbody>\n",
       "</table>\n",
       "</div>"
      ],
      "text/plain": [
       "   InvoiceNo StockCode                        Description  Quantity  \\\n",
       "1     536365     71053                WHITE METAL LANTERN         6   \n",
       "6     536365     21730  GLASS STAR FROSTED T-LIGHT HOLDER         6   \n",
       "7     536366     22633             HAND WARMER UNION JACK         6   \n",
       "8     536366     22632          HAND WARMER RED POLKA DOT         6   \n",
       "10    536367     22745          POPPY'S PLAYHOUSE BEDROOM         6   \n",
       "\n",
       "           InvoiceDate  UnitPrice CustomerID         Country       Date  Year  \\\n",
       "1  2010-12-01 08:26:00       3.39    17850.0  United Kingdom 2010-12-01  2010   \n",
       "6  2010-12-01 08:26:00       4.25    17850.0  United Kingdom 2010-12-01  2010   \n",
       "7  2010-12-01 08:28:00       1.85    17850.0  United Kingdom 2010-12-01  2010   \n",
       "8  2010-12-01 08:28:00       1.85    17850.0  United Kingdom 2010-12-01  2010   \n",
       "10 2010-12-01 08:34:00       2.10    13047.0  United Kingdom 2010-12-01  2010   \n",
       "\n",
       "   Month        Day  hour month_year  Sales  \n",
       "1    Dec  Wednesday     8    2010-12  20.34  \n",
       "6    Dec  Wednesday     8    2010-12  25.50  \n",
       "7    Dec  Wednesday     8    2010-12  11.10  \n",
       "8    Dec  Wednesday     8    2010-12  11.10  \n",
       "10   Dec  Wednesday     8    2010-12  12.60  "
      ]
     },
     "execution_count": 44,
     "metadata": {},
     "output_type": "execute_result"
    }
   ],
   "source": [
    "# import libraries\n",
    "import datetime as dt\n",
    "\n",
    "df_UK = new_df[new_df['Country'] == \"United Kingdom\"]\n",
    "df_UK.head()"
   ]
  },
  {
   "cell_type": "code",
   "execution_count": 45,
   "id": "2446abb2",
   "metadata": {},
   "outputs": [
    {
     "data": {
      "text/plain": [
       "(272708, 4)"
      ]
     },
     "execution_count": 45,
     "metadata": {},
     "output_type": "execute_result"
    }
   ],
   "source": [
    "temp=['CustomerID', 'Quantity', 'InvoiceDate', 'Sales']\n",
    "RFM_data=df_UK[temp]\n",
    "RFM_data.shape"
   ]
  },
  {
   "cell_type": "code",
   "execution_count": 46,
   "id": "b64f674c",
   "metadata": {},
   "outputs": [
    {
     "name": "stdout",
     "output_type": "stream",
     "text": [
      "2010-12-01 08:26:00\n",
      "2011-12-09 12:49:00\n"
     ]
    }
   ],
   "source": [
    "print(df_UK['InvoiceDate'].min())\n",
    "print(df_UK['InvoiceDate'].max())"
   ]
  },
  {
   "cell_type": "code",
   "execution_count": 47,
   "id": "cf8b9696",
   "metadata": {},
   "outputs": [
    {
     "data": {
      "text/html": [
       "<div>\n",
       "<style scoped>\n",
       "    .dataframe tbody tr th:only-of-type {\n",
       "        vertical-align: middle;\n",
       "    }\n",
       "\n",
       "    .dataframe tbody tr th {\n",
       "        vertical-align: top;\n",
       "    }\n",
       "\n",
       "    .dataframe thead th {\n",
       "        text-align: right;\n",
       "    }\n",
       "</style>\n",
       "<table border=\"1\" class=\"dataframe\">\n",
       "  <thead>\n",
       "    <tr style=\"text-align: right;\">\n",
       "      <th></th>\n",
       "      <th>recency</th>\n",
       "      <th>frequency</th>\n",
       "      <th>monetary_value</th>\n",
       "    </tr>\n",
       "    <tr>\n",
       "      <th>CustomerID</th>\n",
       "      <th></th>\n",
       "      <th></th>\n",
       "      <th></th>\n",
       "    </tr>\n",
       "  </thead>\n",
       "  <tbody>\n",
       "    <tr>\n",
       "      <th>12747.0</th>\n",
       "      <td>2</td>\n",
       "      <td>10</td>\n",
       "      <td>2029.71</td>\n",
       "    </tr>\n",
       "    <tr>\n",
       "      <th>12748.0</th>\n",
       "      <td>0</td>\n",
       "      <td>22</td>\n",
       "      <td>18388.33</td>\n",
       "    </tr>\n",
       "    <tr>\n",
       "      <th>12749.0</th>\n",
       "      <td>3</td>\n",
       "      <td>10</td>\n",
       "      <td>2600.53</td>\n",
       "    </tr>\n",
       "    <tr>\n",
       "      <th>12820.0</th>\n",
       "      <td>3</td>\n",
       "      <td>10</td>\n",
       "      <td>905.92</td>\n",
       "    </tr>\n",
       "    <tr>\n",
       "      <th>12821.0</th>\n",
       "      <td>214</td>\n",
       "      <td>3</td>\n",
       "      <td>75.72</td>\n",
       "    </tr>\n",
       "  </tbody>\n",
       "</table>\n",
       "</div>"
      ],
      "text/plain": [
       "            recency  frequency  monetary_value\n",
       "CustomerID                                    \n",
       "12747.0           2         10         2029.71\n",
       "12748.0           0         22        18388.33\n",
       "12749.0           3         10         2600.53\n",
       "12820.0           3         10          905.92\n",
       "12821.0         214          3           75.72"
      ]
     },
     "execution_count": 47,
     "metadata": {},
     "output_type": "execute_result"
    }
   ],
   "source": [
    "NOW = dt.datetime(2011,12,10)\n",
    "#Convert ORDERDATE to datetime format.\n",
    "RFM_data['InvoiceDate'] = pd.to_datetime(RFM_data['InvoiceDate'])\n",
    "# RFM Table\n",
    "RFM_table=RFM_data.groupby('CustomerID').agg({'InvoiceDate': lambda x: (NOW - x.max()).days,\n",
    "                                                'Quantity': lambda x: len(x.unique()), \n",
    "                                                'Sales': lambda x: x.sum()}) \n",
    "\n",
    "RFM_table['InvoiceDate'] = RFM_table['InvoiceDate'].astype(int)\n",
    "\n",
    "RFM_table.rename(columns={'InvoiceDate': 'recency', \n",
    "                         'Quantity': 'frequency',\n",
    "                         'Sales': 'monetary_value'}, inplace=True)\n",
    "RFM_table.head()"
   ]
  },
  {
   "cell_type": "code",
   "execution_count": 48,
   "id": "76fb8e00",
   "metadata": {},
   "outputs": [
    {
     "data": {
      "text/html": [
       "<div>\n",
       "<style scoped>\n",
       "    .dataframe tbody tr th:only-of-type {\n",
       "        vertical-align: middle;\n",
       "    }\n",
       "\n",
       "    .dataframe tbody tr th {\n",
       "        vertical-align: top;\n",
       "    }\n",
       "\n",
       "    .dataframe thead th {\n",
       "        text-align: right;\n",
       "    }\n",
       "</style>\n",
       "<table border=\"1\" class=\"dataframe\">\n",
       "  <thead>\n",
       "    <tr style=\"text-align: right;\">\n",
       "      <th></th>\n",
       "      <th>recency</th>\n",
       "      <th>frequency</th>\n",
       "      <th>monetary_value</th>\n",
       "    </tr>\n",
       "  </thead>\n",
       "  <tbody>\n",
       "    <tr>\n",
       "      <th>0.25</th>\n",
       "      <td>17.0</td>\n",
       "      <td>5.0</td>\n",
       "      <td>172.23</td>\n",
       "    </tr>\n",
       "    <tr>\n",
       "      <th>0.50</th>\n",
       "      <td>50.0</td>\n",
       "      <td>7.0</td>\n",
       "      <td>409.91</td>\n",
       "    </tr>\n",
       "    <tr>\n",
       "      <th>0.75</th>\n",
       "      <td>143.5</td>\n",
       "      <td>10.0</td>\n",
       "      <td>1007.75</td>\n",
       "    </tr>\n",
       "  </tbody>\n",
       "</table>\n",
       "</div>"
      ],
      "text/plain": [
       "      recency  frequency  monetary_value\n",
       "0.25     17.0        5.0          172.23\n",
       "0.50     50.0        7.0          409.91\n",
       "0.75    143.5       10.0         1007.75"
      ]
     },
     "execution_count": 48,
     "metadata": {},
     "output_type": "execute_result"
    }
   ],
   "source": [
    "quantiles = RFM_table.quantile(q=[0.25,0.5,0.75])\n",
    "quantiles"
   ]
  },
  {
   "cell_type": "code",
   "execution_count": 49,
   "id": "02dff99a",
   "metadata": {},
   "outputs": [],
   "source": [
    "# Converting quantiles to a dictionary, easier to use.\n",
    "quantiles = quantiles.to_dict()\n",
    "##  RFM Segmentation ----\n",
    "RFM_Segment = RFM_table.copy()\n",
    "# Arguments (x = value, p = recency, monetary_value, frequency, k = quartiles dict)\n",
    "def R_Class(x,p,d):\n",
    "    if x <= d[p][0.25]:\n",
    "        return 4\n",
    "    elif x <= d[p][0.50]:\n",
    "        return 3\n",
    "    elif x <= d[p][0.75]: \n",
    "        return 2\n",
    "    else:\n",
    "        return 1\n",
    "    \n",
    "# Arguments (x = value, p = recency, monetary_value, frequency, k = quartiles dict)\n",
    "def FM_Class(x,p,d):\n",
    "    if x <= d[p][0.25]:\n",
    "        return 1\n",
    "    elif x <= d[p][0.50]:\n",
    "        return 2\n",
    "    elif x <= d[p][0.75]: \n",
    "        return 3\n",
    "    else:\n",
    "        return 4\n",
    "RFM_Segment['R_Quartile'] = RFM_Segment['recency'].apply(R_Class, args=('recency',quantiles,))\n",
    "RFM_Segment['F_Quartile'] = RFM_Segment['frequency'].apply(FM_Class, args=('frequency',quantiles,))\n",
    "RFM_Segment['M_Quartile'] = RFM_Segment['monetary_value'].apply(FM_Class, args=('monetary_value',quantiles,))\n",
    "RFM_Segment['RFMClass'] = RFM_Segment.R_Quartile.map(str) \\\n",
    "                            + RFM_Segment.F_Quartile.map(str) \\\n",
    "                            + RFM_Segment.M_Quartile.map(str)"
   ]
  },
  {
   "cell_type": "markdown",
   "id": "bff04373",
   "metadata": {},
   "source": [
    "##### Q. Who are the best customers?"
   ]
  },
  {
   "cell_type": "code",
   "execution_count": 50,
   "id": "8f4a578c",
   "metadata": {},
   "outputs": [
    {
     "data": {
      "text/html": [
       "<div>\n",
       "<style scoped>\n",
       "    .dataframe tbody tr th:only-of-type {\n",
       "        vertical-align: middle;\n",
       "    }\n",
       "\n",
       "    .dataframe tbody tr th {\n",
       "        vertical-align: top;\n",
       "    }\n",
       "\n",
       "    .dataframe thead th {\n",
       "        text-align: right;\n",
       "    }\n",
       "</style>\n",
       "<table border=\"1\" class=\"dataframe\">\n",
       "  <thead>\n",
       "    <tr style=\"text-align: right;\">\n",
       "      <th></th>\n",
       "      <th>recency</th>\n",
       "      <th>frequency</th>\n",
       "      <th>monetary_value</th>\n",
       "      <th>R_Quartile</th>\n",
       "      <th>F_Quartile</th>\n",
       "      <th>M_Quartile</th>\n",
       "      <th>RFMClass</th>\n",
       "    </tr>\n",
       "    <tr>\n",
       "      <th>CustomerID</th>\n",
       "      <th></th>\n",
       "      <th></th>\n",
       "      <th></th>\n",
       "      <th></th>\n",
       "      <th></th>\n",
       "      <th></th>\n",
       "      <th></th>\n",
       "    </tr>\n",
       "  </thead>\n",
       "  <tbody>\n",
       "    <tr>\n",
       "      <th>13089.0</th>\n",
       "      <td>4</td>\n",
       "      <td>15</td>\n",
       "      <td>32957.08</td>\n",
       "      <td>4</td>\n",
       "      <td>4</td>\n",
       "      <td>4</td>\n",
       "      <td>444</td>\n",
       "    </tr>\n",
       "    <tr>\n",
       "      <th>14096.0</th>\n",
       "      <td>4</td>\n",
       "      <td>26</td>\n",
       "      <td>32949.41</td>\n",
       "      <td>4</td>\n",
       "      <td>4</td>\n",
       "      <td>4</td>\n",
       "      <td>444</td>\n",
       "    </tr>\n",
       "    <tr>\n",
       "      <th>17841.0</th>\n",
       "      <td>1</td>\n",
       "      <td>25</td>\n",
       "      <td>29176.25</td>\n",
       "      <td>4</td>\n",
       "      <td>4</td>\n",
       "      <td>4</td>\n",
       "      <td>444</td>\n",
       "    </tr>\n",
       "    <tr>\n",
       "      <th>14298.0</th>\n",
       "      <td>8</td>\n",
       "      <td>12</td>\n",
       "      <td>20823.48</td>\n",
       "      <td>4</td>\n",
       "      <td>4</td>\n",
       "      <td>4</td>\n",
       "      <td>444</td>\n",
       "    </tr>\n",
       "    <tr>\n",
       "      <th>12748.0</th>\n",
       "      <td>0</td>\n",
       "      <td>22</td>\n",
       "      <td>18388.33</td>\n",
       "      <td>4</td>\n",
       "      <td>4</td>\n",
       "      <td>4</td>\n",
       "      <td>444</td>\n",
       "    </tr>\n",
       "  </tbody>\n",
       "</table>\n",
       "</div>"
      ],
      "text/plain": [
       "            recency  frequency  monetary_value  R_Quartile  F_Quartile  \\\n",
       "CustomerID                                                               \n",
       "13089.0           4         15        32957.08           4           4   \n",
       "14096.0           4         26        32949.41           4           4   \n",
       "17841.0           1         25        29176.25           4           4   \n",
       "14298.0           8         12        20823.48           4           4   \n",
       "12748.0           0         22        18388.33           4           4   \n",
       "\n",
       "            M_Quartile RFMClass  \n",
       "CustomerID                       \n",
       "13089.0              4      444  \n",
       "14096.0              4      444  \n",
       "17841.0              4      444  \n",
       "14298.0              4      444  \n",
       "12748.0              4      444  "
      ]
     },
     "execution_count": 50,
     "metadata": {},
     "output_type": "execute_result"
    }
   ],
   "source": [
    "#RFMClass = 444\n",
    "RFM_Segment[RFM_Segment['RFMClass']=='444'].sort_values('monetary_value', ascending=False).head()"
   ]
  },
  {
   "cell_type": "markdown",
   "id": "e4b239a1",
   "metadata": {},
   "source": [
    "##### Q. Which customers are at the verge of churning?"
   ]
  },
  {
   "cell_type": "code",
   "execution_count": 51,
   "id": "132f0f82",
   "metadata": {},
   "outputs": [
    {
     "data": {
      "text/html": [
       "<div>\n",
       "<style scoped>\n",
       "    .dataframe tbody tr th:only-of-type {\n",
       "        vertical-align: middle;\n",
       "    }\n",
       "\n",
       "    .dataframe tbody tr th {\n",
       "        vertical-align: top;\n",
       "    }\n",
       "\n",
       "    .dataframe thead th {\n",
       "        text-align: right;\n",
       "    }\n",
       "</style>\n",
       "<table border=\"1\" class=\"dataframe\">\n",
       "  <thead>\n",
       "    <tr style=\"text-align: right;\">\n",
       "      <th></th>\n",
       "      <th>recency</th>\n",
       "      <th>frequency</th>\n",
       "      <th>monetary_value</th>\n",
       "      <th>R_Quartile</th>\n",
       "      <th>F_Quartile</th>\n",
       "      <th>M_Quartile</th>\n",
       "      <th>RFMClass</th>\n",
       "    </tr>\n",
       "    <tr>\n",
       "      <th>CustomerID</th>\n",
       "      <th></th>\n",
       "      <th></th>\n",
       "      <th></th>\n",
       "      <th></th>\n",
       "      <th></th>\n",
       "      <th></th>\n",
       "      <th></th>\n",
       "    </tr>\n",
       "  </thead>\n",
       "  <tbody>\n",
       "    <tr>\n",
       "      <th>17509.0</th>\n",
       "      <td>57</td>\n",
       "      <td>9</td>\n",
       "      <td>5768.64</td>\n",
       "      <td>2</td>\n",
       "      <td>3</td>\n",
       "      <td>4</td>\n",
       "      <td>234</td>\n",
       "    </tr>\n",
       "    <tr>\n",
       "      <th>16745.0</th>\n",
       "      <td>86</td>\n",
       "      <td>15</td>\n",
       "      <td>4249.48</td>\n",
       "      <td>2</td>\n",
       "      <td>4</td>\n",
       "      <td>4</td>\n",
       "      <td>244</td>\n",
       "    </tr>\n",
       "    <tr>\n",
       "      <th>14952.0</th>\n",
       "      <td>59</td>\n",
       "      <td>10</td>\n",
       "      <td>3728.06</td>\n",
       "      <td>2</td>\n",
       "      <td>3</td>\n",
       "      <td>4</td>\n",
       "      <td>234</td>\n",
       "    </tr>\n",
       "    <tr>\n",
       "      <th>13093.0</th>\n",
       "      <td>275</td>\n",
       "      <td>10</td>\n",
       "      <td>3380.12</td>\n",
       "      <td>1</td>\n",
       "      <td>3</td>\n",
       "      <td>4</td>\n",
       "      <td>134</td>\n",
       "    </tr>\n",
       "    <tr>\n",
       "      <th>16652.0</th>\n",
       "      <td>58</td>\n",
       "      <td>8</td>\n",
       "      <td>2879.15</td>\n",
       "      <td>2</td>\n",
       "      <td>3</td>\n",
       "      <td>4</td>\n",
       "      <td>234</td>\n",
       "    </tr>\n",
       "  </tbody>\n",
       "</table>\n",
       "</div>"
      ],
      "text/plain": [
       "            recency  frequency  monetary_value  R_Quartile  F_Quartile  \\\n",
       "CustomerID                                                               \n",
       "17509.0          57          9         5768.64           2           3   \n",
       "16745.0          86         15         4249.48           2           4   \n",
       "14952.0          59         10         3728.06           2           3   \n",
       "13093.0         275         10         3380.12           1           3   \n",
       "16652.0          58          8         2879.15           2           3   \n",
       "\n",
       "            M_Quartile RFMClass  \n",
       "CustomerID                       \n",
       "17509.0              4      234  \n",
       "16745.0              4      244  \n",
       "14952.0              4      234  \n",
       "13093.0              4      134  \n",
       "16652.0              4      234  "
      ]
     },
     "execution_count": 51,
     "metadata": {},
     "output_type": "execute_result"
    }
   ],
   "source": [
    "#Customers who's recency value is low\n",
    "\n",
    "RFM_Segment[RFM_Segment['R_Quartile'] <= 2 ].sort_values('monetary_value', ascending=False).head(5)"
   ]
  },
  {
   "cell_type": "markdown",
   "id": "6dc98f0d",
   "metadata": {},
   "source": [
    "#####  Q. Who are the lost customers?"
   ]
  },
  {
   "cell_type": "code",
   "execution_count": 52,
   "id": "2743d1e8",
   "metadata": {},
   "outputs": [
    {
     "data": {
      "text/html": [
       "<div>\n",
       "<style scoped>\n",
       "    .dataframe tbody tr th:only-of-type {\n",
       "        vertical-align: middle;\n",
       "    }\n",
       "\n",
       "    .dataframe tbody tr th {\n",
       "        vertical-align: top;\n",
       "    }\n",
       "\n",
       "    .dataframe thead th {\n",
       "        text-align: right;\n",
       "    }\n",
       "</style>\n",
       "<table border=\"1\" class=\"dataframe\">\n",
       "  <thead>\n",
       "    <tr style=\"text-align: right;\">\n",
       "      <th></th>\n",
       "      <th>recency</th>\n",
       "      <th>frequency</th>\n",
       "      <th>monetary_value</th>\n",
       "      <th>R_Quartile</th>\n",
       "      <th>F_Quartile</th>\n",
       "      <th>M_Quartile</th>\n",
       "      <th>RFMClass</th>\n",
       "    </tr>\n",
       "    <tr>\n",
       "      <th>CustomerID</th>\n",
       "      <th></th>\n",
       "      <th></th>\n",
       "      <th></th>\n",
       "      <th></th>\n",
       "      <th></th>\n",
       "      <th></th>\n",
       "      <th></th>\n",
       "    </tr>\n",
       "  </thead>\n",
       "  <tbody>\n",
       "    <tr>\n",
       "      <th>18011.0</th>\n",
       "      <td>373</td>\n",
       "      <td>5</td>\n",
       "      <td>63.03</td>\n",
       "      <td>1</td>\n",
       "      <td>1</td>\n",
       "      <td>1</td>\n",
       "      <td>111</td>\n",
       "    </tr>\n",
       "    <tr>\n",
       "      <th>13065.0</th>\n",
       "      <td>373</td>\n",
       "      <td>5</td>\n",
       "      <td>120.71</td>\n",
       "      <td>1</td>\n",
       "      <td>1</td>\n",
       "      <td>1</td>\n",
       "      <td>111</td>\n",
       "    </tr>\n",
       "    <tr>\n",
       "      <th>14237.0</th>\n",
       "      <td>373</td>\n",
       "      <td>4</td>\n",
       "      <td>77.45</td>\n",
       "      <td>1</td>\n",
       "      <td>1</td>\n",
       "      <td>1</td>\n",
       "      <td>111</td>\n",
       "    </tr>\n",
       "    <tr>\n",
       "      <th>17643.0</th>\n",
       "      <td>373</td>\n",
       "      <td>3</td>\n",
       "      <td>58.80</td>\n",
       "      <td>1</td>\n",
       "      <td>1</td>\n",
       "      <td>1</td>\n",
       "      <td>111</td>\n",
       "    </tr>\n",
       "    <tr>\n",
       "      <th>15350.0</th>\n",
       "      <td>373</td>\n",
       "      <td>2</td>\n",
       "      <td>115.65</td>\n",
       "      <td>1</td>\n",
       "      <td>1</td>\n",
       "      <td>1</td>\n",
       "      <td>111</td>\n",
       "    </tr>\n",
       "  </tbody>\n",
       "</table>\n",
       "</div>"
      ],
      "text/plain": [
       "            recency  frequency  monetary_value  R_Quartile  F_Quartile  \\\n",
       "CustomerID                                                               \n",
       "18011.0         373          5           63.03           1           1   \n",
       "13065.0         373          5          120.71           1           1   \n",
       "14237.0         373          4           77.45           1           1   \n",
       "17643.0         373          3           58.80           1           1   \n",
       "15350.0         373          2          115.65           1           1   \n",
       "\n",
       "            M_Quartile RFMClass  \n",
       "CustomerID                       \n",
       "18011.0              1      111  \n",
       "13065.0              1      111  \n",
       "14237.0              1      111  \n",
       "17643.0              1      111  \n",
       "15350.0              1      111  "
      ]
     },
     "execution_count": 52,
     "metadata": {},
     "output_type": "execute_result"
    }
   ],
   "source": [
    "#Customers who's recency, frequency as well as monetary values are low \n",
    "\n",
    "RFM_Segment[RFM_Segment['RFMClass']=='111'].sort_values('recency',ascending=False).head(5)"
   ]
  },
  {
   "cell_type": "markdown",
   "id": "630f70ce",
   "metadata": {},
   "source": [
    "##### Q. Who are loyal customers?"
   ]
  },
  {
   "cell_type": "code",
   "execution_count": 53,
   "id": "211686ec",
   "metadata": {},
   "outputs": [
    {
     "data": {
      "text/html": [
       "<div>\n",
       "<style scoped>\n",
       "    .dataframe tbody tr th:only-of-type {\n",
       "        vertical-align: middle;\n",
       "    }\n",
       "\n",
       "    .dataframe tbody tr th {\n",
       "        vertical-align: top;\n",
       "    }\n",
       "\n",
       "    .dataframe thead th {\n",
       "        text-align: right;\n",
       "    }\n",
       "</style>\n",
       "<table border=\"1\" class=\"dataframe\">\n",
       "  <thead>\n",
       "    <tr style=\"text-align: right;\">\n",
       "      <th></th>\n",
       "      <th>recency</th>\n",
       "      <th>frequency</th>\n",
       "      <th>monetary_value</th>\n",
       "      <th>R_Quartile</th>\n",
       "      <th>F_Quartile</th>\n",
       "      <th>M_Quartile</th>\n",
       "      <th>RFMClass</th>\n",
       "    </tr>\n",
       "    <tr>\n",
       "      <th>CustomerID</th>\n",
       "      <th></th>\n",
       "      <th></th>\n",
       "      <th></th>\n",
       "      <th></th>\n",
       "      <th></th>\n",
       "      <th></th>\n",
       "      <th></th>\n",
       "    </tr>\n",
       "  </thead>\n",
       "  <tbody>\n",
       "    <tr>\n",
       "      <th>13089.0</th>\n",
       "      <td>4</td>\n",
       "      <td>15</td>\n",
       "      <td>32957.08</td>\n",
       "      <td>4</td>\n",
       "      <td>4</td>\n",
       "      <td>4</td>\n",
       "      <td>444</td>\n",
       "    </tr>\n",
       "    <tr>\n",
       "      <th>14096.0</th>\n",
       "      <td>4</td>\n",
       "      <td>26</td>\n",
       "      <td>32949.41</td>\n",
       "      <td>4</td>\n",
       "      <td>4</td>\n",
       "      <td>4</td>\n",
       "      <td>444</td>\n",
       "    </tr>\n",
       "    <tr>\n",
       "      <th>17841.0</th>\n",
       "      <td>1</td>\n",
       "      <td>25</td>\n",
       "      <td>29176.25</td>\n",
       "      <td>4</td>\n",
       "      <td>4</td>\n",
       "      <td>4</td>\n",
       "      <td>444</td>\n",
       "    </tr>\n",
       "    <tr>\n",
       "      <th>14298.0</th>\n",
       "      <td>8</td>\n",
       "      <td>12</td>\n",
       "      <td>20823.48</td>\n",
       "      <td>4</td>\n",
       "      <td>4</td>\n",
       "      <td>4</td>\n",
       "      <td>444</td>\n",
       "    </tr>\n",
       "    <tr>\n",
       "      <th>12748.0</th>\n",
       "      <td>0</td>\n",
       "      <td>22</td>\n",
       "      <td>18388.33</td>\n",
       "      <td>4</td>\n",
       "      <td>4</td>\n",
       "      <td>4</td>\n",
       "      <td>444</td>\n",
       "    </tr>\n",
       "  </tbody>\n",
       "</table>\n",
       "</div>"
      ],
      "text/plain": [
       "            recency  frequency  monetary_value  R_Quartile  F_Quartile  \\\n",
       "CustomerID                                                               \n",
       "13089.0           4         15        32957.08           4           4   \n",
       "14096.0           4         26        32949.41           4           4   \n",
       "17841.0           1         25        29176.25           4           4   \n",
       "14298.0           8         12        20823.48           4           4   \n",
       "12748.0           0         22        18388.33           4           4   \n",
       "\n",
       "            M_Quartile RFMClass  \n",
       "CustomerID                       \n",
       "13089.0              4      444  \n",
       "14096.0              4      444  \n",
       "17841.0              4      444  \n",
       "14298.0              4      444  \n",
       "12748.0              4      444  "
      ]
     },
     "execution_count": 53,
     "metadata": {},
     "output_type": "execute_result"
    }
   ],
   "source": [
    "#Customers with high frequency value\n",
    "\n",
    "RFM_Segment[RFM_Segment['F_Quartile'] >= 3 ].sort_values('monetary_value', ascending=False).head(5)"
   ]
  },
  {
   "cell_type": "code",
   "execution_count": 54,
   "id": "9279ac89",
   "metadata": {},
   "outputs": [
    {
     "name": "stdout",
     "output_type": "stream",
     "text": [
      "63\n",
      "CustomerID\n",
      "12747.0    11\n",
      "12748.0    12\n",
      "12749.0    11\n",
      "12820.0    10\n",
      "12821.0     3\n",
      "Name: RFM_Score, dtype: int64\n"
     ]
    }
   ],
   "source": [
    "# Count num of unique segments\n",
    "RFM_count_unique = RFM_Segment.groupby('RFMClass')['RFMClass'].nunique()\n",
    "print(RFM_count_unique.sum())\n",
    "# Calculate RFM_Score\n",
    "RFM_Segment['RFM_Score'] = RFM_Segment[['R_Quartile','F_Quartile','M_Quartile']].sum(axis=1)\n",
    "print(RFM_Segment['RFM_Score'].head())"
   ]
  },
  {
   "cell_type": "code",
   "execution_count": 55,
   "id": "f4998168",
   "metadata": {},
   "outputs": [
    {
     "data": {
      "text/html": [
       "<div>\n",
       "<style scoped>\n",
       "    .dataframe tbody tr th:only-of-type {\n",
       "        vertical-align: middle;\n",
       "    }\n",
       "\n",
       "    .dataframe tbody tr th {\n",
       "        vertical-align: top;\n",
       "    }\n",
       "\n",
       "    .dataframe thead th {\n",
       "        text-align: right;\n",
       "    }\n",
       "</style>\n",
       "<table border=\"1\" class=\"dataframe\">\n",
       "  <thead>\n",
       "    <tr style=\"text-align: right;\">\n",
       "      <th></th>\n",
       "      <th>recency</th>\n",
       "      <th>frequency</th>\n",
       "      <th>monetary_value</th>\n",
       "      <th>R_Quartile</th>\n",
       "      <th>F_Quartile</th>\n",
       "      <th>M_Quartile</th>\n",
       "      <th>RFMClass</th>\n",
       "      <th>RFM_Score</th>\n",
       "      <th>RFM_Level</th>\n",
       "    </tr>\n",
       "    <tr>\n",
       "      <th>CustomerID</th>\n",
       "      <th></th>\n",
       "      <th></th>\n",
       "      <th></th>\n",
       "      <th></th>\n",
       "      <th></th>\n",
       "      <th></th>\n",
       "      <th></th>\n",
       "      <th></th>\n",
       "      <th></th>\n",
       "    </tr>\n",
       "  </thead>\n",
       "  <tbody>\n",
       "    <tr>\n",
       "      <th>12747.0</th>\n",
       "      <td>2</td>\n",
       "      <td>10</td>\n",
       "      <td>2029.71</td>\n",
       "      <td>4</td>\n",
       "      <td>3</td>\n",
       "      <td>4</td>\n",
       "      <td>434</td>\n",
       "      <td>11</td>\n",
       "      <td>Can't Loose Them</td>\n",
       "    </tr>\n",
       "    <tr>\n",
       "      <th>12748.0</th>\n",
       "      <td>0</td>\n",
       "      <td>22</td>\n",
       "      <td>18388.33</td>\n",
       "      <td>4</td>\n",
       "      <td>4</td>\n",
       "      <td>4</td>\n",
       "      <td>444</td>\n",
       "      <td>12</td>\n",
       "      <td>Can't Loose Them</td>\n",
       "    </tr>\n",
       "    <tr>\n",
       "      <th>12749.0</th>\n",
       "      <td>3</td>\n",
       "      <td>10</td>\n",
       "      <td>2600.53</td>\n",
       "      <td>4</td>\n",
       "      <td>3</td>\n",
       "      <td>4</td>\n",
       "      <td>434</td>\n",
       "      <td>11</td>\n",
       "      <td>Can't Loose Them</td>\n",
       "    </tr>\n",
       "    <tr>\n",
       "      <th>12820.0</th>\n",
       "      <td>3</td>\n",
       "      <td>10</td>\n",
       "      <td>905.92</td>\n",
       "      <td>4</td>\n",
       "      <td>3</td>\n",
       "      <td>3</td>\n",
       "      <td>433</td>\n",
       "      <td>10</td>\n",
       "      <td>Can't Loose Them</td>\n",
       "    </tr>\n",
       "    <tr>\n",
       "      <th>12821.0</th>\n",
       "      <td>214</td>\n",
       "      <td>3</td>\n",
       "      <td>75.72</td>\n",
       "      <td>1</td>\n",
       "      <td>1</td>\n",
       "      <td>1</td>\n",
       "      <td>111</td>\n",
       "      <td>3</td>\n",
       "      <td>Demands Activation</td>\n",
       "    </tr>\n",
       "    <tr>\n",
       "      <th>12822.0</th>\n",
       "      <td>70</td>\n",
       "      <td>8</td>\n",
       "      <td>743.28</td>\n",
       "      <td>2</td>\n",
       "      <td>3</td>\n",
       "      <td>3</td>\n",
       "      <td>233</td>\n",
       "      <td>8</td>\n",
       "      <td>Champions</td>\n",
       "    </tr>\n",
       "    <tr>\n",
       "      <th>12824.0</th>\n",
       "      <td>59</td>\n",
       "      <td>4</td>\n",
       "      <td>306.22</td>\n",
       "      <td>2</td>\n",
       "      <td>1</td>\n",
       "      <td>2</td>\n",
       "      <td>212</td>\n",
       "      <td>5</td>\n",
       "      <td>Promising</td>\n",
       "    </tr>\n",
       "    <tr>\n",
       "      <th>12826.0</th>\n",
       "      <td>2</td>\n",
       "      <td>9</td>\n",
       "      <td>1367.80</td>\n",
       "      <td>4</td>\n",
       "      <td>3</td>\n",
       "      <td>4</td>\n",
       "      <td>434</td>\n",
       "      <td>11</td>\n",
       "      <td>Can't Loose Them</td>\n",
       "    </tr>\n",
       "    <tr>\n",
       "      <th>12827.0</th>\n",
       "      <td>5</td>\n",
       "      <td>5</td>\n",
       "      <td>375.05</td>\n",
       "      <td>4</td>\n",
       "      <td>1</td>\n",
       "      <td>2</td>\n",
       "      <td>412</td>\n",
       "      <td>7</td>\n",
       "      <td>Loyal/Commited</td>\n",
       "    </tr>\n",
       "    <tr>\n",
       "      <th>12828.0</th>\n",
       "      <td>2</td>\n",
       "      <td>11</td>\n",
       "      <td>874.36</td>\n",
       "      <td>4</td>\n",
       "      <td>4</td>\n",
       "      <td>3</td>\n",
       "      <td>443</td>\n",
       "      <td>11</td>\n",
       "      <td>Can't Loose Them</td>\n",
       "    </tr>\n",
       "  </tbody>\n",
       "</table>\n",
       "</div>"
      ],
      "text/plain": [
       "            recency  frequency  monetary_value  R_Quartile  F_Quartile  \\\n",
       "CustomerID                                                               \n",
       "12747.0           2         10         2029.71           4           3   \n",
       "12748.0           0         22        18388.33           4           4   \n",
       "12749.0           3         10         2600.53           4           3   \n",
       "12820.0           3         10          905.92           4           3   \n",
       "12821.0         214          3           75.72           1           1   \n",
       "12822.0          70          8          743.28           2           3   \n",
       "12824.0          59          4          306.22           2           1   \n",
       "12826.0           2          9         1367.80           4           3   \n",
       "12827.0           5          5          375.05           4           1   \n",
       "12828.0           2         11          874.36           4           4   \n",
       "\n",
       "            M_Quartile RFMClass  RFM_Score           RFM_Level  \n",
       "CustomerID                                                      \n",
       "12747.0              4      434         11    Can't Loose Them  \n",
       "12748.0              4      444         12    Can't Loose Them  \n",
       "12749.0              4      434         11    Can't Loose Them  \n",
       "12820.0              3      433         10    Can't Loose Them  \n",
       "12821.0              1      111          3  Demands Activation  \n",
       "12822.0              3      233          8           Champions  \n",
       "12824.0              2      212          5           Promising  \n",
       "12826.0              4      434         11    Can't Loose Them  \n",
       "12827.0              2      412          7      Loyal/Commited  \n",
       "12828.0              3      443         11    Can't Loose Them  "
      ]
     },
     "execution_count": 55,
     "metadata": {},
     "output_type": "execute_result"
    }
   ],
   "source": [
    "# Define FMCG_rfm_level function\n",
    "def rfm_level(df):\n",
    "    if df['RFM_Score'] >= 9:\n",
    "        return 'Can\\'t Loose Them'\n",
    "    elif ((df['RFM_Score'] >= 8) and (df['RFM_Score'] < 9)):\n",
    "        return 'Champions'\n",
    "    elif ((df['RFM_Score'] >= 7) and (df['RFM_Score'] < 8)):\n",
    "        return 'Loyal/Commited'\n",
    "    elif ((df['RFM_Score'] >= 6) and (df['RFM_Score'] < 7)):\n",
    "        return 'Potential'\n",
    "    elif ((df['RFM_Score'] >= 5) and (df['RFM_Score'] < 6)):\n",
    "        return 'Promising'\n",
    "    elif ((df['RFM_Score'] >= 4) and (df['RFM_Score'] < 5)):\n",
    "        return 'Requires Attention'\n",
    "    else:\n",
    "        return 'Demands Activation'\n",
    "# Create a new variable RFM_Level\n",
    "RFM_Segment['RFM_Level'] = RFM_Segment.apply(rfm_level, axis=1)\n",
    "# Printing the header with top 15 rows \n",
    "RFM_Segment.head(10)"
   ]
  },
  {
   "cell_type": "markdown",
   "id": "f08789af",
   "metadata": {},
   "source": [
    "Calculating the average values for each RFM_Level, and return a size of each segment"
   ]
  },
  {
   "cell_type": "code",
   "execution_count": 56,
   "id": "e6007eab",
   "metadata": {},
   "outputs": [
    {
     "name": "stdout",
     "output_type": "stream",
     "text": [
      "                   recency frequency monetary_value      \n",
      "                      mean      mean           mean count\n",
      "RFM_Level                                                \n",
      "Can't Loose Them      25.7      11.0         1869.0  1420\n",
      "Champions             66.2       8.1          598.4   358\n",
      "Demands Activation   257.8       3.0           87.1   373\n",
      "Loyal/Commited        80.1       6.8          457.7   401\n",
      "Potential             98.5       5.7          290.2   408\n",
      "Promising            123.1       4.8          219.1   429\n",
      "Requires Attention   169.1       4.0          148.1   378\n"
     ]
    }
   ],
   "source": [
    "rfm_level_agg = RFM_Segment.groupby('RFM_Level').agg({\n",
    "    'recency': 'mean',\n",
    "    'frequency': 'mean',\n",
    "    'monetary_value': ['mean', 'count']\n",
    "}).round(1)\n",
    "# Print the aggregated dataset\n",
    "print(rfm_level_agg)"
   ]
  },
  {
   "cell_type": "markdown",
   "id": "756307af",
   "metadata": {},
   "source": [
    "Finally, Plotting the RFM level on the Squarify plot"
   ]
  },
  {
   "cell_type": "code",
   "execution_count": 59,
   "id": "a7c999bb",
   "metadata": {},
   "outputs": [
    {
     "data": {
      "image/png": "[encoded data removed]",
      "text/plain": [
       "<Figure size 720x504 with 1 Axes>"
      ]
     },
     "metadata": {
      "needs_background": "light"
     },
     "output_type": "display_data"
    }
   ],
   "source": [
    "import squarify\n",
    "rfm_level_agg.columns = ['recencyMean','frequencyMean','monetary_valueMean', 'Count']\n",
    "#Create our plot and resize it.\n",
    "fig = plt.gcf()\n",
    "ax = fig.add_subplot()\n",
    "fig.set_size_inches(10, 7)\n",
    "squarify.plot(sizes=rfm_level_agg['Count'], \n",
    "              label=['Can\\'t Loose Them',\n",
    "                     'Champions',\n",
    "                     'Loyal/Commited',\n",
    "                     'Requires Attention',\n",
    "                     'Potential', \n",
    "                     'Promising', \n",
    "                     'Demands Activation'], alpha=.6 )\n",
    "plt.title(\"RFM Segments\",fontsize=18,fontweight=\"bold\")\n",
    "plt.axis('off')\n",
    "plt.show()"
   ]
  },
  {
   "cell_type": "code",
   "execution_count": null,
   "id": "a9fda977",
   "metadata": {},
   "outputs": [],
   "source": []
  }
 ],
 "metadata": {
  "kernelspec": {
   "display_name": "Python 3 (ipykernel)",
   "language": "python",
   "name": "python3"
  },
  "language_info": {
   "codemirror_mode": {
    "name": "ipython",
    "version": 3
   },
   "file_extension": ".py",
   "mimetype": "text/x-python",
   "name": "python",
   "nbconvert_exporter": "python",
   "pygments_lexer": "ipython3",
   "version": "3.9.7"
  }
 },
 "nbformat": 4,
 "nbformat_minor": 5
}
